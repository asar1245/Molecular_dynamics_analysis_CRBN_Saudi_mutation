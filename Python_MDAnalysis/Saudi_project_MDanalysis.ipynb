{
 "cells": [
  {
   "cell_type": "markdown",
   "metadata": {},
   "source": [
    "# Importing libraries"
   ]
  },
  {
   "cell_type": "code",
   "execution_count": 10,
   "metadata": {
    "ExecuteTime": {
     "end_time": "2020-11-27T21:56:07.810778Z",
     "start_time": "2020-11-27T21:56:07.804705Z"
    }
   },
   "outputs": [],
   "source": [
    "import MDAnalysis as mda\n",
    "from MDAnalysis.analysis import rms, diffusionmap, align\n",
    "import numpy as np \n",
    "import pandas as pd\n",
    "\n",
    "import matplotlib.pyplot as plt\n",
    "import seaborn as sns\n",
    "import nglview as nv\n",
    "plt.style.use('seaborn')"
   ]
  },
  {
   "cell_type": "markdown",
   "metadata": {},
   "source": [
    "# Reading, loading and showing trajectories"
   ]
  },
  {
   "cell_type": "markdown",
   "metadata": {},
   "source": [
    "## WT"
   ]
  },
  {
   "cell_type": "markdown",
   "metadata": {},
   "source": [
    "### R1 "
   ]
  },
  {
   "cell_type": "code",
   "execution_count": 2,
   "metadata": {
    "ExecuteTime": {
     "end_time": "2020-11-27T21:43:17.586042Z",
     "start_time": "2020-11-27T21:43:16.064553Z"
    }
   },
   "outputs": [
    {
     "data": {
      "text/plain": [
       "<XTCReader /media/sebastianayalar/ADATA HD330/Projects/Saudi/Results/WT/R1/MDProduction/WT_R1_noPBC.xtc with 25001 frames of 56189 atoms>"
      ]
     },
     "execution_count": 2,
     "metadata": {},
     "output_type": "execute_result"
    }
   ],
   "source": [
    "u_WT_R1 = mda.Universe('/media/sebastianayalar/ADATA HD330/Projects/Saudi/Results/WT/R1/MDProduction/md_1.gro','/media/sebastianayalar/ADATA HD330/Projects/Saudi/Results/WT/R1/MDProduction/WT_R1_noPBC.xtc')\n",
    "u_WT_R1.trajectory"
   ]
  },
  {
   "cell_type": "code",
   "execution_count": 3,
   "metadata": {
    "ExecuteTime": {
     "end_time": "2020-11-27T21:43:21.101959Z",
     "start_time": "2020-11-27T21:43:20.618146Z"
    }
   },
   "outputs": [
    {
     "data": {
      "application/vnd.jupyter.widget-view+json": {
       "model_id": "23bb0e892c974bbf8a6734bc6f4fd723",
       "version_major": 2,
       "version_minor": 0
      },
      "text/plain": [
       "NGLWidget(max_frame=25000)"
      ]
     },
     "metadata": {},
     "output_type": "display_data"
    }
   ],
   "source": [
    "prot = u_WT_R1.select_atoms('protein', 'name ZN')\n",
    "view_md_prot = nv.show_mdanalysis(prot)\n",
    "view_md_prot"
   ]
  },
  {
   "cell_type": "markdown",
   "metadata": {},
   "source": [
    "### R2"
   ]
  },
  {
   "cell_type": "code",
   "execution_count": 4,
   "metadata": {
    "ExecuteTime": {
     "end_time": "2020-11-27T21:43:45.418399Z",
     "start_time": "2020-11-27T21:43:44.707174Z"
    }
   },
   "outputs": [
    {
     "data": {
      "text/plain": [
       "<XTCReader /media/sebastianayalar/ADATA HD330/Projects/Saudi/Results/WT/R2/MDProduction/WT_R2_noPBC.xtc with 25001 frames of 56189 atoms>"
      ]
     },
     "execution_count": 4,
     "metadata": {},
     "output_type": "execute_result"
    }
   ],
   "source": [
    "u_WT_R2 = mda.Universe('/media/sebastianayalar/ADATA HD330/Projects/Saudi/Results/WT/R2/MDProduction/md_1.gro','/media/sebastianayalar/ADATA HD330/Projects/Saudi/Results/WT/R2/MDProduction/WT_R2_noPBC.xtc')\n",
    "u_WT_R2.trajectory"
   ]
  },
  {
   "cell_type": "code",
   "execution_count": 5,
   "metadata": {
    "ExecuteTime": {
     "end_time": "2020-11-27T21:44:40.354701Z",
     "start_time": "2020-11-27T21:44:39.770632Z"
    }
   },
   "outputs": [
    {
     "data": {
      "application/vnd.jupyter.widget-view+json": {
       "model_id": "6716dcad970b4e8c9e68e421b0a085f0",
       "version_major": 2,
       "version_minor": 0
      },
      "text/plain": [
       "NGLWidget(max_frame=25000)"
      ]
     },
     "metadata": {},
     "output_type": "display_data"
    }
   ],
   "source": [
    "prot = u_WT_R2.select_atoms('protein', 'name ZN')\n",
    "view_md_prot = nv.show_mdanalysis(prot)\n",
    "view_md_prot"
   ]
  },
  {
   "cell_type": "markdown",
   "metadata": {},
   "source": [
    "### R3"
   ]
  },
  {
   "cell_type": "code",
   "execution_count": 7,
   "metadata": {
    "ExecuteTime": {
     "end_time": "2020-11-02T14:30:36.924820Z",
     "start_time": "2020-11-02T14:30:36.323917Z"
    }
   },
   "outputs": [
    {
     "data": {
      "text/plain": [
       "<XTCReader /media/sebastianayalar/ADATA HD330/Projects/Saudi/Results/WT/R3/MDProduction/WT_R3_noPBC.xtc with 25001 frames of 56189 atoms>"
      ]
     },
     "execution_count": 7,
     "metadata": {},
     "output_type": "execute_result"
    }
   ],
   "source": [
    "u_WT_R3 = mda.Universe('/media/sebastianayalar/ADATA HD330/Projects/Saudi/Results/WT/R3/MDProduction/md_1.gro','/media/sebastianayalar/ADATA HD330/Projects/Saudi/Results/WT/R3/MDProduction/WT_R3_noPBC.xtc')\n",
    "u_WT_R3.trajectory"
   ]
  },
  {
   "cell_type": "code",
   "execution_count": 8,
   "metadata": {
    "ExecuteTime": {
     "end_time": "2020-11-02T14:30:39.404906Z",
     "start_time": "2020-11-02T14:30:38.909841Z"
    }
   },
   "outputs": [
    {
     "data": {
      "application/vnd.jupyter.widget-view+json": {
       "model_id": "00d5747b5d3e4cc78ff48b89bb5f1062",
       "version_major": 2,
       "version_minor": 0
      },
      "text/plain": [
       "NGLWidget(max_frame=25000)"
      ]
     },
     "metadata": {},
     "output_type": "display_data"
    }
   ],
   "source": [
    "prot = u_WT_R3.select_atoms('protein', 'name ZN')\n",
    "view_md_prot = nv.show_mdanalysis(prot)\n",
    "view_md_prot"
   ]
  },
  {
   "cell_type": "markdown",
   "metadata": {},
   "source": [
    "## C391R "
   ]
  },
  {
   "cell_type": "markdown",
   "metadata": {},
   "source": [
    "### R1 "
   ]
  },
  {
   "cell_type": "code",
   "execution_count": 6,
   "metadata": {
    "ExecuteTime": {
     "end_time": "2020-11-27T21:47:33.191601Z",
     "start_time": "2020-11-27T21:47:32.156818Z"
    }
   },
   "outputs": [
    {
     "data": {
      "text/plain": [
       "<XTCReader /media/sebastianayalar/ADATA HD330/Projects/Saudi/Results/C391R/R1/MDProduction/C391R_R1_noPBC.xtc with 25001 frames of 56203 atoms>"
      ]
     },
     "execution_count": 6,
     "metadata": {},
     "output_type": "execute_result"
    }
   ],
   "source": [
    "u_C391R_R1 = mda.Universe('/media/sebastianayalar/ADATA HD330/Projects/Saudi/Results/C391R/R1/MDProduction/md_1.gro','/media/sebastianayalar/ADATA HD330/Projects/Saudi/Results/C391R/R1/MDProduction/C391R_R1_noPBC.xtc')\n",
    "u_C391R_R1.trajectory"
   ]
  },
  {
   "cell_type": "code",
   "execution_count": 7,
   "metadata": {
    "ExecuteTime": {
     "end_time": "2020-11-27T21:47:36.732167Z",
     "start_time": "2020-11-27T21:47:35.737979Z"
    }
   },
   "outputs": [
    {
     "data": {
      "application/vnd.jupyter.widget-view+json": {
       "model_id": "87b23945e6364e449e8c91346ca89991",
       "version_major": 2,
       "version_minor": 0
      },
      "text/plain": [
       "NGLWidget(max_frame=25000)"
      ]
     },
     "metadata": {},
     "output_type": "display_data"
    }
   ],
   "source": [
    "prot = u_C391R_R1.select_atoms('protein', 'name ZN')\n",
    "view_md_prot = nv.show_mdanalysis(prot)\n",
    "view_md_prot"
   ]
  },
  {
   "cell_type": "markdown",
   "metadata": {},
   "source": [
    "### R2"
   ]
  },
  {
   "cell_type": "code",
   "execution_count": 11,
   "metadata": {
    "ExecuteTime": {
     "end_time": "2020-11-02T14:30:52.764371Z",
     "start_time": "2020-11-02T14:30:52.141594Z"
    }
   },
   "outputs": [
    {
     "data": {
      "text/plain": [
       "<XTCReader /media/sebastianayalar/ADATA HD330/Projects/Saudi/Results/C391R/R2/MDProduction/C391R_R2_noPBC.xtc with 25001 frames of 56203 atoms>"
      ]
     },
     "execution_count": 11,
     "metadata": {},
     "output_type": "execute_result"
    }
   ],
   "source": [
    "u_C391R_R2 = mda.Universe('/media/sebastianayalar/ADATA HD330/Projects/Saudi/Results/C391R/R2/MDProduction/md_1.gro','/media/sebastianayalar/ADATA HD330/Projects/Saudi/Results/C391R/R2/MDProduction/C391R_R2_noPBC.xtc')\n",
    "u_C391R_R2.trajectory"
   ]
  },
  {
   "cell_type": "code",
   "execution_count": 12,
   "metadata": {
    "ExecuteTime": {
     "end_time": "2020-11-02T14:30:56.227520Z",
     "start_time": "2020-11-02T14:30:55.708417Z"
    }
   },
   "outputs": [
    {
     "data": {
      "application/vnd.jupyter.widget-view+json": {
       "model_id": "7d3b8ee91156499a8a2232590d456ae9",
       "version_major": 2,
       "version_minor": 0
      },
      "text/plain": [
       "NGLWidget(max_frame=25000)"
      ]
     },
     "metadata": {},
     "output_type": "display_data"
    }
   ],
   "source": [
    "prot = u_C391R_R2.select_atoms('protein', 'name ZN')\n",
    "view_md_prot = nv.show_mdanalysis(prot)\n",
    "view_md_prot"
   ]
  },
  {
   "cell_type": "markdown",
   "metadata": {},
   "source": [
    "### R3 "
   ]
  },
  {
   "cell_type": "code",
   "execution_count": 13,
   "metadata": {
    "ExecuteTime": {
     "end_time": "2020-11-02T14:31:00.732723Z",
     "start_time": "2020-11-02T14:31:00.080601Z"
    }
   },
   "outputs": [
    {
     "data": {
      "text/plain": [
       "<XTCReader /media/sebastianayalar/ADATA HD330/Projects/Saudi/Results/C391R/R3/MDProduction/C391R_R3_noPBC.xtc with 25001 frames of 56203 atoms>"
      ]
     },
     "execution_count": 13,
     "metadata": {},
     "output_type": "execute_result"
    }
   ],
   "source": [
    "u_C391R_R3 = mda.Universe('/media/sebastianayalar/ADATA HD330/Projects/Saudi/Results/C391R/R3/MDProduction/md_1.gro','/media/sebastianayalar/ADATA HD330/Projects/Saudi/Results/C391R/R3/MDProduction/C391R_R3_noPBC.xtc')\n",
    "u_C391R_R3.trajectory"
   ]
  },
  {
   "cell_type": "code",
   "execution_count": 14,
   "metadata": {
    "ExecuteTime": {
     "end_time": "2020-11-02T14:31:02.965258Z",
     "start_time": "2020-11-02T14:31:02.476566Z"
    }
   },
   "outputs": [
    {
     "data": {
      "application/vnd.jupyter.widget-view+json": {
       "model_id": "f7270a7cca2941cca3837763065ffc90",
       "version_major": 2,
       "version_minor": 0
      },
      "text/plain": [
       "NGLWidget(max_frame=25000)"
      ]
     },
     "metadata": {},
     "output_type": "display_data"
    }
   ],
   "source": [
    "prot = u_C391R_R3.select_atoms('protein', 'name ZN')\n",
    "view_md_prot = nv.show_mdanalysis(prot)\n",
    "view_md_prot"
   ]
  },
  {
   "cell_type": "markdown",
   "metadata": {},
   "source": [
    "## 419X "
   ]
  },
  {
   "cell_type": "markdown",
   "metadata": {},
   "source": [
    "### R1"
   ]
  },
  {
   "cell_type": "code",
   "execution_count": 11,
   "metadata": {
    "ExecuteTime": {
     "end_time": "2020-11-27T21:56:15.713266Z",
     "start_time": "2020-11-27T21:56:14.809147Z"
    }
   },
   "outputs": [
    {
     "data": {
      "text/plain": [
       "<XTCReader /media/sebastianayalar/ADATA HD330/Projects/Saudi/Results/Truncated/R1/MDProduction/419X_R1_noPBC.xtc with 25001 frames of 56162 atoms>"
      ]
     },
     "execution_count": 11,
     "metadata": {},
     "output_type": "execute_result"
    }
   ],
   "source": [
    "u_419X_R1 = mda.Universe('/media/sebastianayalar/ADATA HD330/Projects/Saudi/Results/Truncated/R1/MDProduction/prod.gro','/media/sebastianayalar/ADATA HD330/Projects/Saudi/Results/Truncated/R1/MDProduction/419X_R1_noPBC.xtc')\n",
    "u_419X_R1.trajectory"
   ]
  },
  {
   "cell_type": "code",
   "execution_count": 12,
   "metadata": {
    "ExecuteTime": {
     "end_time": "2020-11-27T21:56:18.931775Z",
     "start_time": "2020-11-27T21:56:17.853240Z"
    }
   },
   "outputs": [
    {
     "data": {
      "application/vnd.jupyter.widget-view+json": {
       "model_id": "1ec3a592626b42f08ab8d1f709b3b2de",
       "version_major": 2,
       "version_minor": 0
      },
      "text/plain": [
       "NGLWidget(max_frame=25000)"
      ]
     },
     "metadata": {},
     "output_type": "display_data"
    }
   ],
   "source": [
    "prot = u_419X_R1.select_atoms('protein', 'name ZN')\n",
    "view_md_prot = nv.show_mdanalysis(prot)\n",
    "view_md_prot"
   ]
  },
  {
   "cell_type": "markdown",
   "metadata": {},
   "source": [
    "### R2"
   ]
  },
  {
   "cell_type": "code",
   "execution_count": 17,
   "metadata": {
    "ExecuteTime": {
     "end_time": "2020-11-02T14:31:15.547225Z",
     "start_time": "2020-11-02T14:31:14.878815Z"
    }
   },
   "outputs": [
    {
     "data": {
      "text/plain": [
       "<XTCReader /media/sebastianayalar/ADATA HD330/Projects/Saudi/Results/Truncated/R2/MDProduction/419X_R2_noPBC.xtc with 25001 frames of 56162 atoms>"
      ]
     },
     "execution_count": 17,
     "metadata": {},
     "output_type": "execute_result"
    }
   ],
   "source": [
    "u_419X_R2 = mda.Universe('/media/sebastianayalar/ADATA HD330/Projects/Saudi/Results/Truncated/R2/MDProduction/prod.gro','/media/sebastianayalar/ADATA HD330/Projects/Saudi/Results/Truncated/R2/MDProduction/419X_R2_noPBC.xtc')\n",
    "u_419X_R2.trajectory"
   ]
  },
  {
   "cell_type": "code",
   "execution_count": 18,
   "metadata": {
    "ExecuteTime": {
     "end_time": "2020-11-02T14:31:17.754837Z",
     "start_time": "2020-11-02T14:31:17.273685Z"
    }
   },
   "outputs": [
    {
     "data": {
      "application/vnd.jupyter.widget-view+json": {
       "model_id": "fddaacc34a2b487794a38e8149d8d9c2",
       "version_major": 2,
       "version_minor": 0
      },
      "text/plain": [
       "NGLWidget(max_frame=25000)"
      ]
     },
     "metadata": {},
     "output_type": "display_data"
    }
   ],
   "source": [
    "prot = u_419X_R2.select_atoms('protein', 'name ZN')\n",
    "view_md_prot = nv.show_mdanalysis(prot)\n",
    "view_md_prot"
   ]
  },
  {
   "cell_type": "markdown",
   "metadata": {},
   "source": [
    "### R3"
   ]
  },
  {
   "cell_type": "code",
   "execution_count": 19,
   "metadata": {
    "ExecuteTime": {
     "end_time": "2020-11-02T14:31:21.262826Z",
     "start_time": "2020-11-02T14:31:20.650510Z"
    }
   },
   "outputs": [
    {
     "data": {
      "text/plain": [
       "<XTCReader /media/sebastianayalar/ADATA HD330/Projects/Saudi/Results/Truncated/R3/MDProduction/419X_R3_noPBC.xtc with 25001 frames of 56162 atoms>"
      ]
     },
     "execution_count": 19,
     "metadata": {},
     "output_type": "execute_result"
    }
   ],
   "source": [
    "u_419X_R3 = mda.Universe('/media/sebastianayalar/ADATA HD330/Projects/Saudi/Results/Truncated/R3/MDProduction/prod.gro','/media/sebastianayalar/ADATA HD330/Projects/Saudi/Results/Truncated/R3/MDProduction/419X_R3_noPBC.xtc')\n",
    "u_419X_R3.trajectory"
   ]
  },
  {
   "cell_type": "code",
   "execution_count": 20,
   "metadata": {
    "ExecuteTime": {
     "end_time": "2020-11-02T14:31:23.086474Z",
     "start_time": "2020-11-02T14:31:22.615986Z"
    }
   },
   "outputs": [
    {
     "data": {
      "application/vnd.jupyter.widget-view+json": {
       "model_id": "3c5d62c9346d45dea214d97ab7257b38",
       "version_major": 2,
       "version_minor": 0
      },
      "text/plain": [
       "NGLWidget(max_frame=25000)"
      ]
     },
     "metadata": {},
     "output_type": "display_data"
    }
   ],
   "source": [
    "prot = u_419X_R3.select_atoms('protein', 'name ZN')\n",
    "view_md_prot = nv.show_mdanalysis(prot)\n",
    "view_md_prot"
   ]
  },
  {
   "cell_type": "markdown",
   "metadata": {},
   "source": [
    "# Showing trajectories in tetrahedron "
   ]
  },
  {
   "cell_type": "markdown",
   "metadata": {},
   "source": [
    "## WT "
   ]
  },
  {
   "cell_type": "markdown",
   "metadata": {},
   "source": [
    "### R1"
   ]
  },
  {
   "cell_type": "code",
   "execution_count": 13,
   "metadata": {
    "ExecuteTime": {
     "end_time": "2020-11-27T22:07:37.142892Z",
     "start_time": "2020-11-27T22:07:36.463327Z"
    }
   },
   "outputs": [
    {
     "data": {
      "application/vnd.jupyter.widget-view+json": {
       "model_id": "48f570ce9a614297a71a83971d4e24ed",
       "version_major": 2,
       "version_minor": 0
      },
      "text/plain": [
       "NGLWidget(max_frame=25000)"
      ]
     },
     "metadata": {},
     "output_type": "display_data"
    },
    {
     "data": {
      "application/vnd.jupyter.widget-view+json": {
       "model_id": "ec346d80970f4b51bd657fb6b225391b",
       "version_major": 2,
       "version_minor": 0
      },
      "text/plain": [
       "Tab(children=(Box(children=(Box(children=(Box(children=(Label(value='step'), IntSlider(value=1, min=-100)), la…"
      ]
     },
     "metadata": {},
     "output_type": "display_data"
    }
   ],
   "source": [
    "tet = u_WT_R1.select_atoms(\"resid 271:284\") + u_WT_R1.select_atoms(\"resid 339:352\") + u_WT_R1.select_atoms(\"name ZN\")\n",
    "tet_view = nv.show_mdanalysis(tet,gui=True)\n",
    "tet_view"
   ]
  },
  {
   "cell_type": "markdown",
   "metadata": {},
   "source": [
    "### R2"
   ]
  },
  {
   "cell_type": "code",
   "execution_count": 22,
   "metadata": {
    "ExecuteTime": {
     "end_time": "2020-11-02T13:15:38.934368Z",
     "start_time": "2020-11-02T13:15:38.557932Z"
    }
   },
   "outputs": [
    {
     "data": {
      "application/vnd.jupyter.widget-view+json": {
       "model_id": "9712d92d712a40308d145280c258f30c",
       "version_major": 2,
       "version_minor": 0
      },
      "text/plain": [
       "NGLWidget(max_frame=25000)"
      ]
     },
     "metadata": {},
     "output_type": "display_data"
    },
    {
     "data": {
      "application/vnd.jupyter.widget-view+json": {
       "model_id": "1a9f1dfc9f594ebe8a9f6ec0bfaf3668",
       "version_major": 2,
       "version_minor": 0
      },
      "text/plain": [
       "Tab(children=(Box(children=(Box(children=(Box(children=(Label(value='step'), IntSlider(value=1, min=-100)), la…"
      ]
     },
     "metadata": {},
     "output_type": "display_data"
    }
   ],
   "source": [
    "tet = u_WT_R2.select_atoms(\"resid 271:284\") + u_WT_R2.select_atoms(\"resid 339:352\") + u_WT_R2.select_atoms(\"name ZN\")\n",
    "tet_view = nv.show_mdanalysis(tet,gui=True)\n",
    "tet_view"
   ]
  },
  {
   "cell_type": "markdown",
   "metadata": {},
   "source": [
    "### R3"
   ]
  },
  {
   "cell_type": "code",
   "execution_count": 23,
   "metadata": {
    "ExecuteTime": {
     "end_time": "2020-11-02T13:15:45.606883Z",
     "start_time": "2020-11-02T13:15:45.245066Z"
    }
   },
   "outputs": [
    {
     "data": {
      "application/vnd.jupyter.widget-view+json": {
       "model_id": "8cca27db02924f0ca4cfd81357d45c42",
       "version_major": 2,
       "version_minor": 0
      },
      "text/plain": [
       "NGLWidget(max_frame=25000)"
      ]
     },
     "metadata": {},
     "output_type": "display_data"
    },
    {
     "data": {
      "application/vnd.jupyter.widget-view+json": {
       "model_id": "b7c64e190c054691a18952b793c197be",
       "version_major": 2,
       "version_minor": 0
      },
      "text/plain": [
       "Tab(children=(Box(children=(Box(children=(Box(children=(Label(value='step'), IntSlider(value=1, min=-100)), la…"
      ]
     },
     "metadata": {},
     "output_type": "display_data"
    }
   ],
   "source": [
    "tet = u_WT_R3.select_atoms(\"resid 271:284\") + u_WT_R3.select_atoms(\"resid 339:352\") + u_WT_R3.select_atoms(\"name ZN\")\n",
    "tet_view = nv.show_mdanalysis(tet,gui=True)\n",
    "tet_view"
   ]
  },
  {
   "cell_type": "markdown",
   "metadata": {},
   "source": [
    "## C391R "
   ]
  },
  {
   "cell_type": "markdown",
   "metadata": {},
   "source": [
    "### R1"
   ]
  },
  {
   "cell_type": "code",
   "execution_count": 14,
   "metadata": {
    "ExecuteTime": {
     "end_time": "2020-11-27T22:08:16.045808Z",
     "start_time": "2020-11-27T22:08:15.205467Z"
    }
   },
   "outputs": [
    {
     "data": {
      "application/vnd.jupyter.widget-view+json": {
       "model_id": "1b04122e0f7a4a3dbd6a902a4ebd3f4d",
       "version_major": 2,
       "version_minor": 0
      },
      "text/plain": [
       "NGLWidget(max_frame=25000)"
      ]
     },
     "metadata": {},
     "output_type": "display_data"
    },
    {
     "data": {
      "application/vnd.jupyter.widget-view+json": {
       "model_id": "f51e90e7b86047dc837056515b7611c3",
       "version_major": 2,
       "version_minor": 0
      },
      "text/plain": [
       "Tab(children=(Box(children=(Box(children=(Box(children=(Label(value='step'), IntSlider(value=1, min=-100)), la…"
      ]
     },
     "metadata": {},
     "output_type": "display_data"
    }
   ],
   "source": [
    "tet = u_C391R_R1.select_atoms(\"resid 271:284\") + u_C391R_R1.select_atoms(\"resid 339:352\") + u_C391R_R1.select_atoms(\"name ZN\")\n",
    "tet_view = nv.show_mdanalysis(tet,gui=True)\n",
    "tet_view"
   ]
  },
  {
   "cell_type": "markdown",
   "metadata": {},
   "source": [
    "### R2"
   ]
  },
  {
   "cell_type": "code",
   "execution_count": 25,
   "metadata": {
    "ExecuteTime": {
     "end_time": "2020-11-02T13:15:59.190526Z",
     "start_time": "2020-11-02T13:15:58.832265Z"
    }
   },
   "outputs": [
    {
     "data": {
      "application/vnd.jupyter.widget-view+json": {
       "model_id": "aa2f0a7a29294d60b46372248236aae4",
       "version_major": 2,
       "version_minor": 0
      },
      "text/plain": [
       "NGLWidget(max_frame=25000)"
      ]
     },
     "metadata": {},
     "output_type": "display_data"
    },
    {
     "data": {
      "application/vnd.jupyter.widget-view+json": {
       "model_id": "7f65fe6041284edabfb4ec36e7a79b7f",
       "version_major": 2,
       "version_minor": 0
      },
      "text/plain": [
       "Tab(children=(Box(children=(Box(children=(Box(children=(Label(value='step'), IntSlider(value=1, min=-100)), la…"
      ]
     },
     "metadata": {},
     "output_type": "display_data"
    }
   ],
   "source": [
    "tet = u_C391R_R2.select_atoms(\"resid 271:284\") + u_C391R_R2.select_atoms(\"resid 339:352\") + u_C391R_R2.select_atoms(\"name ZN\")\n",
    "tet_view = nv.show_mdanalysis(tet,gui=True)\n",
    "tet_view"
   ]
  },
  {
   "cell_type": "markdown",
   "metadata": {},
   "source": [
    "### R3"
   ]
  },
  {
   "cell_type": "code",
   "execution_count": 26,
   "metadata": {
    "ExecuteTime": {
     "end_time": "2020-11-02T13:16:04.582234Z",
     "start_time": "2020-11-02T13:16:04.236454Z"
    }
   },
   "outputs": [
    {
     "data": {
      "application/vnd.jupyter.widget-view+json": {
       "model_id": "a3b3d1ae98234b988943c237dc350901",
       "version_major": 2,
       "version_minor": 0
      },
      "text/plain": [
       "NGLWidget(max_frame=25000)"
      ]
     },
     "metadata": {},
     "output_type": "display_data"
    },
    {
     "data": {
      "application/vnd.jupyter.widget-view+json": {
       "model_id": "1a404c2051dd4e6a8156c357aae63170",
       "version_major": 2,
       "version_minor": 0
      },
      "text/plain": [
       "Tab(children=(Box(children=(Box(children=(Box(children=(Label(value='step'), IntSlider(value=1, min=-100)), la…"
      ]
     },
     "metadata": {},
     "output_type": "display_data"
    }
   ],
   "source": [
    "tet = u_C391R_R3.select_atoms(\"resid 271:284\") + u_C391R_R3.select_atoms(\"resid 339:352\") + u_C391R_R3.select_atoms(\"name ZN\")\n",
    "tet_view = nv.show_mdanalysis(tet,gui=True)\n",
    "tet_view"
   ]
  },
  {
   "cell_type": "markdown",
   "metadata": {},
   "source": [
    "## 419X"
   ]
  },
  {
   "cell_type": "markdown",
   "metadata": {},
   "source": [
    "### R1"
   ]
  },
  {
   "cell_type": "code",
   "execution_count": 15,
   "metadata": {
    "ExecuteTime": {
     "end_time": "2020-11-27T22:09:37.948474Z",
     "start_time": "2020-11-27T22:09:37.125647Z"
    }
   },
   "outputs": [
    {
     "data": {
      "application/vnd.jupyter.widget-view+json": {
       "model_id": "741e664a3b624692af8eb04420eeb91f",
       "version_major": 2,
       "version_minor": 0
      },
      "text/plain": [
       "NGLWidget(max_frame=25000)"
      ]
     },
     "metadata": {},
     "output_type": "display_data"
    },
    {
     "data": {
      "application/vnd.jupyter.widget-view+json": {
       "model_id": "369eccc94d5e4517a511d8ab6abd2a99",
       "version_major": 2,
       "version_minor": 0
      },
      "text/plain": [
       "Tab(children=(Box(children=(Box(children=(Box(children=(Label(value='step'), IntSlider(value=1, min=-100)), la…"
      ]
     },
     "metadata": {},
     "output_type": "display_data"
    }
   ],
   "source": [
    "tet = u_419X_R1.select_atoms(\"resid 271:284\") + u_419X_R1.select_atoms(\"resid 339:352\") + u_419X_R1.select_atoms(\"name ZN\")\n",
    "tet_view = nv.show_mdanalysis(tet,gui=True)\n",
    "tet_view"
   ]
  },
  {
   "cell_type": "markdown",
   "metadata": {},
   "source": [
    "### R2"
   ]
  },
  {
   "cell_type": "code",
   "execution_count": 28,
   "metadata": {
    "ExecuteTime": {
     "end_time": "2020-11-02T13:16:17.547367Z",
     "start_time": "2020-11-02T13:16:17.202924Z"
    }
   },
   "outputs": [
    {
     "data": {
      "application/vnd.jupyter.widget-view+json": {
       "model_id": "3d1db38a23e0479ead6ea75a682d9c85",
       "version_major": 2,
       "version_minor": 0
      },
      "text/plain": [
       "NGLWidget(max_frame=25000)"
      ]
     },
     "metadata": {},
     "output_type": "display_data"
    },
    {
     "data": {
      "application/vnd.jupyter.widget-view+json": {
       "model_id": "ee79d4a751a84ada941475be305e9a3a",
       "version_major": 2,
       "version_minor": 0
      },
      "text/plain": [
       "Tab(children=(Box(children=(Box(children=(Box(children=(Label(value='step'), IntSlider(value=1, min=-100)), la…"
      ]
     },
     "metadata": {},
     "output_type": "display_data"
    }
   ],
   "source": [
    "tet = u_419X_R2.select_atoms(\"resid 271:284\") + u_419X_R2.select_atoms(\"resid 339:352\") + u_419X_R2.select_atoms(\"name ZN\")\n",
    "tet_view = nv.show_mdanalysis(tet,gui=True)\n",
    "tet_view"
   ]
  },
  {
   "cell_type": "markdown",
   "metadata": {},
   "source": [
    "### R3"
   ]
  },
  {
   "cell_type": "code",
   "execution_count": 29,
   "metadata": {
    "ExecuteTime": {
     "end_time": "2020-11-02T13:16:21.911181Z",
     "start_time": "2020-11-02T13:16:21.571145Z"
    }
   },
   "outputs": [
    {
     "data": {
      "application/vnd.jupyter.widget-view+json": {
       "model_id": "08d84e977c634b41aed021b3f2e0e889",
       "version_major": 2,
       "version_minor": 0
      },
      "text/plain": [
       "NGLWidget(max_frame=25000)"
      ]
     },
     "metadata": {},
     "output_type": "display_data"
    },
    {
     "data": {
      "application/vnd.jupyter.widget-view+json": {
       "model_id": "5f8dccc768674e0a997d77d9bde5fde1",
       "version_major": 2,
       "version_minor": 0
      },
      "text/plain": [
       "Tab(children=(Box(children=(Box(children=(Box(children=(Label(value='step'), IntSlider(value=1, min=-100)), la…"
      ]
     },
     "metadata": {},
     "output_type": "display_data"
    }
   ],
   "source": [
    "tet = u_419X_R3.select_atoms(\"resid 271:284\") + u_419X_R3.select_atoms(\"resid 339:352\") + u_419X_R3.select_atoms(\"name ZN\")\n",
    "tet_view = nv.show_mdanalysis(tet,gui=True)\n",
    "tet_view"
   ]
  },
  {
   "cell_type": "markdown",
   "metadata": {},
   "source": [
    "# Radius of gyration"
   ]
  },
  {
   "cell_type": "markdown",
   "metadata": {
    "heading_collapsed": true
   },
   "source": [
    "## WT"
   ]
  },
  {
   "cell_type": "code",
   "execution_count": 21,
   "metadata": {
    "ExecuteTime": {
     "end_time": "2020-11-02T14:33:53.286318Z",
     "start_time": "2020-11-02T14:31:32.228753Z"
    },
    "hidden": true
   },
   "outputs": [],
   "source": [
    "rgyr = []\n",
    "time = []\n",
    "protein = u_WT_R1.select_atoms(\"protein\")\n",
    "for ts in u_WT_R1.trajectory:\n",
    "    time.append(u_WT_R1.trajectory.time)\n",
    "    rgyr.append(protein.radius_of_gyration()*0.1)"
   ]
  },
  {
   "cell_type": "code",
   "execution_count": 22,
   "metadata": {
    "ExecuteTime": {
     "end_time": "2020-11-02T14:36:37.070802Z",
     "start_time": "2020-11-02T14:33:53.310953Z"
    },
    "hidden": true
   },
   "outputs": [],
   "source": [
    "rgyr_R2 = []\n",
    "protein = u_WT_R2.select_atoms(\"protein\")\n",
    "for ts in u_WT_R2.trajectory:\n",
    "    rgyr_R2.append(protein.radius_of_gyration()*0.1)"
   ]
  },
  {
   "cell_type": "code",
   "execution_count": 23,
   "metadata": {
    "ExecuteTime": {
     "end_time": "2020-11-02T14:39:18.478551Z",
     "start_time": "2020-11-02T14:36:37.072967Z"
    },
    "hidden": true
   },
   "outputs": [],
   "source": [
    "rgyr_R3 = []\n",
    "protein = u_WT_R3.select_atoms(\"protein\")\n",
    "for ts in u_WT_R3.trajectory:\n",
    "    rgyr_R3.append(protein.radius_of_gyration()*0.1)"
   ]
  },
  {
   "cell_type": "code",
   "execution_count": 24,
   "metadata": {
    "ExecuteTime": {
     "end_time": "2020-11-02T18:13:48.997203Z",
     "start_time": "2020-11-02T18:13:48.708079Z"
    },
    "hidden": true
   },
   "outputs": [
    {
     "data": {
      "text/html": [
       "<div>\n",
       "<style scoped>\n",
       "    .dataframe tbody tr th:only-of-type {\n",
       "        vertical-align: middle;\n",
       "    }\n",
       "\n",
       "    .dataframe tbody tr th {\n",
       "        vertical-align: top;\n",
       "    }\n",
       "\n",
       "    .dataframe thead th {\n",
       "        text-align: right;\n",
       "    }\n",
       "</style>\n",
       "<table border=\"1\" class=\"dataframe\">\n",
       "  <thead>\n",
       "    <tr style=\"text-align: right;\">\n",
       "      <th></th>\n",
       "      <th>R1</th>\n",
       "      <th>R2</th>\n",
       "      <th>R3</th>\n",
       "      <th>Average_WT</th>\n",
       "    </tr>\n",
       "    <tr>\n",
       "      <th>Time (ps)</th>\n",
       "      <th></th>\n",
       "      <th></th>\n",
       "      <th></th>\n",
       "      <th></th>\n",
       "    </tr>\n",
       "  </thead>\n",
       "  <tbody>\n",
       "    <tr>\n",
       "      <th>0.0</th>\n",
       "      <td>2.271989</td>\n",
       "      <td>2.281650</td>\n",
       "      <td>2.275266</td>\n",
       "      <td>2.276302</td>\n",
       "    </tr>\n",
       "    <tr>\n",
       "      <th>2.0</th>\n",
       "      <td>2.267883</td>\n",
       "      <td>2.280488</td>\n",
       "      <td>2.277200</td>\n",
       "      <td>2.275190</td>\n",
       "    </tr>\n",
       "    <tr>\n",
       "      <th>4.0</th>\n",
       "      <td>2.272439</td>\n",
       "      <td>2.286593</td>\n",
       "      <td>2.277809</td>\n",
       "      <td>2.278947</td>\n",
       "    </tr>\n",
       "    <tr>\n",
       "      <th>6.0</th>\n",
       "      <td>2.272296</td>\n",
       "      <td>2.293443</td>\n",
       "      <td>2.289826</td>\n",
       "      <td>2.285189</td>\n",
       "    </tr>\n",
       "    <tr>\n",
       "      <th>8.0</th>\n",
       "      <td>2.275088</td>\n",
       "      <td>2.278712</td>\n",
       "      <td>2.288771</td>\n",
       "      <td>2.280857</td>\n",
       "    </tr>\n",
       "    <tr>\n",
       "      <th>...</th>\n",
       "      <td>...</td>\n",
       "      <td>...</td>\n",
       "      <td>...</td>\n",
       "      <td>...</td>\n",
       "    </tr>\n",
       "    <tr>\n",
       "      <th>49992.0</th>\n",
       "      <td>2.300621</td>\n",
       "      <td>2.281353</td>\n",
       "      <td>2.275184</td>\n",
       "      <td>2.285719</td>\n",
       "    </tr>\n",
       "    <tr>\n",
       "      <th>49994.0</th>\n",
       "      <td>2.303972</td>\n",
       "      <td>2.267731</td>\n",
       "      <td>2.281631</td>\n",
       "      <td>2.284445</td>\n",
       "    </tr>\n",
       "    <tr>\n",
       "      <th>49996.0</th>\n",
       "      <td>2.310675</td>\n",
       "      <td>2.279641</td>\n",
       "      <td>2.276130</td>\n",
       "      <td>2.288815</td>\n",
       "    </tr>\n",
       "    <tr>\n",
       "      <th>49998.0</th>\n",
       "      <td>2.309291</td>\n",
       "      <td>2.274775</td>\n",
       "      <td>2.279507</td>\n",
       "      <td>2.287858</td>\n",
       "    </tr>\n",
       "    <tr>\n",
       "      <th>50000.0</th>\n",
       "      <td>2.302985</td>\n",
       "      <td>2.282544</td>\n",
       "      <td>2.286429</td>\n",
       "      <td>2.290653</td>\n",
       "    </tr>\n",
       "  </tbody>\n",
       "</table>\n",
       "<p>25001 rows × 4 columns</p>\n",
       "</div>"
      ],
      "text/plain": [
       "                 R1        R2        R3  Average_WT\n",
       "Time (ps)                                          \n",
       "0.0        2.271989  2.281650  2.275266    2.276302\n",
       "2.0        2.267883  2.280488  2.277200    2.275190\n",
       "4.0        2.272439  2.286593  2.277809    2.278947\n",
       "6.0        2.272296  2.293443  2.289826    2.285189\n",
       "8.0        2.275088  2.278712  2.288771    2.280857\n",
       "...             ...       ...       ...         ...\n",
       "49992.0    2.300621  2.281353  2.275184    2.285719\n",
       "49994.0    2.303972  2.267731  2.281631    2.284445\n",
       "49996.0    2.310675  2.279641  2.276130    2.288815\n",
       "49998.0    2.309291  2.274775  2.279507    2.287858\n",
       "50000.0    2.302985  2.282544  2.286429    2.290653\n",
       "\n",
       "[25001 rows x 4 columns]"
      ]
     },
     "execution_count": 24,
     "metadata": {},
     "output_type": "execute_result"
    }
   ],
   "source": [
    "rgyr_df = pd.DataFrame(rgyr, columns=['R1'], index=time)\n",
    "rgyr_df.index.name = 'Time (ps)'\n",
    "rgyr_df['R2'] = rgyr_R2\n",
    "rgyr_df['R3'] = rgyr_R3\n",
    "rgyr_df['Average_WT'] =  rgyr_df.mean(axis=1)\n",
    "rgyr_df"
   ]
  },
  {
   "cell_type": "markdown",
   "metadata": {
    "heading_collapsed": true
   },
   "source": [
    "## C391R"
   ]
  },
  {
   "cell_type": "code",
   "execution_count": 26,
   "metadata": {
    "ExecuteTime": {
     "end_time": "2020-11-02T18:17:12.458180Z",
     "start_time": "2020-11-02T18:14:07.107486Z"
    },
    "hidden": true
   },
   "outputs": [],
   "source": [
    "rgyr_c391_R1 = []\n",
    "protein = u_C391R_R1.select_atoms(\"protein\")\n",
    "for ts in u_C391R_R1.trajectory:\n",
    "    rgyr_c391_R1.append(protein.radius_of_gyration()*0.1)"
   ]
  },
  {
   "cell_type": "code",
   "execution_count": 27,
   "metadata": {
    "ExecuteTime": {
     "end_time": "2020-11-02T18:19:43.899019Z",
     "start_time": "2020-11-02T18:17:12.957442Z"
    },
    "hidden": true
   },
   "outputs": [],
   "source": [
    "rgyr_c391_R2 = []\n",
    "protein = u_C391R_R2.select_atoms(\"protein\")\n",
    "for ts in u_C391R_R2.trajectory:\n",
    "    rgyr_c391_R2.append(protein.radius_of_gyration()*0.1)"
   ]
  },
  {
   "cell_type": "code",
   "execution_count": 28,
   "metadata": {
    "ExecuteTime": {
     "end_time": "2020-11-02T18:22:16.211554Z",
     "start_time": "2020-11-02T18:19:43.902697Z"
    },
    "hidden": true
   },
   "outputs": [],
   "source": [
    "rgyr_c391_R3 = []\n",
    "protein = u_C391R_R3.select_atoms(\"protein\")\n",
    "for ts in u_C391R_R3.trajectory:\n",
    "    rgyr_c391_R3.append(protein.radius_of_gyration()*0.1)"
   ]
  },
  {
   "cell_type": "code",
   "execution_count": 29,
   "metadata": {
    "ExecuteTime": {
     "end_time": "2020-11-02T18:39:59.223158Z",
     "start_time": "2020-11-02T18:39:59.175029Z"
    },
    "hidden": true
   },
   "outputs": [
    {
     "data": {
      "text/html": [
       "<div>\n",
       "<style scoped>\n",
       "    .dataframe tbody tr th:only-of-type {\n",
       "        vertical-align: middle;\n",
       "    }\n",
       "\n",
       "    .dataframe tbody tr th {\n",
       "        vertical-align: top;\n",
       "    }\n",
       "\n",
       "    .dataframe thead th {\n",
       "        text-align: right;\n",
       "    }\n",
       "</style>\n",
       "<table border=\"1\" class=\"dataframe\">\n",
       "  <thead>\n",
       "    <tr style=\"text-align: right;\">\n",
       "      <th></th>\n",
       "      <th>R1</th>\n",
       "      <th>R2</th>\n",
       "      <th>R3</th>\n",
       "      <th>Average_C391R</th>\n",
       "    </tr>\n",
       "    <tr>\n",
       "      <th>Time (ps)</th>\n",
       "      <th></th>\n",
       "      <th></th>\n",
       "      <th></th>\n",
       "      <th></th>\n",
       "    </tr>\n",
       "  </thead>\n",
       "  <tbody>\n",
       "    <tr>\n",
       "      <th>0.0</th>\n",
       "      <td>2.280488</td>\n",
       "      <td>2.291673</td>\n",
       "      <td>2.251501</td>\n",
       "      <td>2.274554</td>\n",
       "    </tr>\n",
       "    <tr>\n",
       "      <th>2.0</th>\n",
       "      <td>2.285910</td>\n",
       "      <td>2.287289</td>\n",
       "      <td>2.247222</td>\n",
       "      <td>2.273474</td>\n",
       "    </tr>\n",
       "    <tr>\n",
       "      <th>4.0</th>\n",
       "      <td>2.288492</td>\n",
       "      <td>2.287914</td>\n",
       "      <td>2.258753</td>\n",
       "      <td>2.278386</td>\n",
       "    </tr>\n",
       "    <tr>\n",
       "      <th>6.0</th>\n",
       "      <td>2.295785</td>\n",
       "      <td>2.291349</td>\n",
       "      <td>2.254008</td>\n",
       "      <td>2.280380</td>\n",
       "    </tr>\n",
       "    <tr>\n",
       "      <th>8.0</th>\n",
       "      <td>2.283374</td>\n",
       "      <td>2.297062</td>\n",
       "      <td>2.246348</td>\n",
       "      <td>2.275594</td>\n",
       "    </tr>\n",
       "    <tr>\n",
       "      <th>...</th>\n",
       "      <td>...</td>\n",
       "      <td>...</td>\n",
       "      <td>...</td>\n",
       "      <td>...</td>\n",
       "    </tr>\n",
       "    <tr>\n",
       "      <th>49992.0</th>\n",
       "      <td>2.269542</td>\n",
       "      <td>2.298870</td>\n",
       "      <td>2.234713</td>\n",
       "      <td>2.267708</td>\n",
       "    </tr>\n",
       "    <tr>\n",
       "      <th>49994.0</th>\n",
       "      <td>2.269503</td>\n",
       "      <td>2.296129</td>\n",
       "      <td>2.230561</td>\n",
       "      <td>2.265398</td>\n",
       "    </tr>\n",
       "    <tr>\n",
       "      <th>49996.0</th>\n",
       "      <td>2.272755</td>\n",
       "      <td>2.293605</td>\n",
       "      <td>2.226012</td>\n",
       "      <td>2.264124</td>\n",
       "    </tr>\n",
       "    <tr>\n",
       "      <th>49998.0</th>\n",
       "      <td>2.266889</td>\n",
       "      <td>2.295835</td>\n",
       "      <td>2.232404</td>\n",
       "      <td>2.265042</td>\n",
       "    </tr>\n",
       "    <tr>\n",
       "      <th>50000.0</th>\n",
       "      <td>2.269519</td>\n",
       "      <td>2.295926</td>\n",
       "      <td>2.230833</td>\n",
       "      <td>2.265426</td>\n",
       "    </tr>\n",
       "  </tbody>\n",
       "</table>\n",
       "<p>25001 rows × 4 columns</p>\n",
       "</div>"
      ],
      "text/plain": [
       "                 R1        R2        R3  Average_C391R\n",
       "Time (ps)                                             \n",
       "0.0        2.280488  2.291673  2.251501       2.274554\n",
       "2.0        2.285910  2.287289  2.247222       2.273474\n",
       "4.0        2.288492  2.287914  2.258753       2.278386\n",
       "6.0        2.295785  2.291349  2.254008       2.280380\n",
       "8.0        2.283374  2.297062  2.246348       2.275594\n",
       "...             ...       ...       ...            ...\n",
       "49992.0    2.269542  2.298870  2.234713       2.267708\n",
       "49994.0    2.269503  2.296129  2.230561       2.265398\n",
       "49996.0    2.272755  2.293605  2.226012       2.264124\n",
       "49998.0    2.266889  2.295835  2.232404       2.265042\n",
       "50000.0    2.269519  2.295926  2.230833       2.265426\n",
       "\n",
       "[25001 rows x 4 columns]"
      ]
     },
     "execution_count": 29,
     "metadata": {},
     "output_type": "execute_result"
    }
   ],
   "source": [
    "rgyr_c391r_df = pd.DataFrame(rgyr_c391_R1, columns=['R1'], index=time)\n",
    "rgyr_c391r_df.index.name = 'Time (ps)'\n",
    "rgyr_c391r_df['R2'] = rgyr_c391_R2\n",
    "rgyr_c391r_df['R3'] = rgyr_c391_R3\n",
    "rgyr_c391r_df['Average_C391R'] = rgyr_c391r_df.mean(axis=1)\n",
    "rgyr_c391r_df"
   ]
  },
  {
   "cell_type": "markdown",
   "metadata": {},
   "source": [
    "## 419X"
   ]
  },
  {
   "cell_type": "code",
   "execution_count": 30,
   "metadata": {
    "ExecuteTime": {
     "end_time": "2020-11-02T18:42:27.556371Z",
     "start_time": "2020-11-02T18:40:04.150771Z"
    }
   },
   "outputs": [],
   "source": [
    "rgyr_419X_R1 = []\n",
    "protein = u_419X_R1.select_atoms(\"protein\")\n",
    "for ts in u_419X_R1.trajectory:\n",
    "    rgyr_419X_R1.append(protein.radius_of_gyration()*0.1)"
   ]
  },
  {
   "cell_type": "code",
   "execution_count": 31,
   "metadata": {
    "ExecuteTime": {
     "end_time": "2020-11-02T18:44:52.926232Z",
     "start_time": "2020-11-02T18:42:27.558696Z"
    }
   },
   "outputs": [],
   "source": [
    "rgyr_419X_R2 = []\n",
    "protein = u_419X_R2.select_atoms(\"protein\")\n",
    "for ts in u_419X_R2.trajectory:\n",
    "    rgyr_419X_R2.append(protein.radius_of_gyration()*0.1)"
   ]
  },
  {
   "cell_type": "code",
   "execution_count": 32,
   "metadata": {
    "ExecuteTime": {
     "end_time": "2020-11-02T18:47:16.294428Z",
     "start_time": "2020-11-02T18:44:52.930194Z"
    }
   },
   "outputs": [],
   "source": [
    "rgyr_419X_R3 = []\n",
    "protein = u_419X_R3.select_atoms(\"protein\")\n",
    "for ts in u_419X_R3.trajectory:\n",
    "    rgyr_419X_R3.append(protein.radius_of_gyration()*0.1)"
   ]
  },
  {
   "cell_type": "code",
   "execution_count": 33,
   "metadata": {
    "ExecuteTime": {
     "end_time": "2020-11-02T18:47:22.892744Z",
     "start_time": "2020-11-02T18:47:22.852776Z"
    }
   },
   "outputs": [
    {
     "data": {
      "text/html": [
       "<div>\n",
       "<style scoped>\n",
       "    .dataframe tbody tr th:only-of-type {\n",
       "        vertical-align: middle;\n",
       "    }\n",
       "\n",
       "    .dataframe tbody tr th {\n",
       "        vertical-align: top;\n",
       "    }\n",
       "\n",
       "    .dataframe thead th {\n",
       "        text-align: right;\n",
       "    }\n",
       "</style>\n",
       "<table border=\"1\" class=\"dataframe\">\n",
       "  <thead>\n",
       "    <tr style=\"text-align: right;\">\n",
       "      <th></th>\n",
       "      <th>R1</th>\n",
       "      <th>R2</th>\n",
       "      <th>R3</th>\n",
       "      <th>Average_419X</th>\n",
       "    </tr>\n",
       "    <tr>\n",
       "      <th>Time (ps)</th>\n",
       "      <th></th>\n",
       "      <th></th>\n",
       "      <th></th>\n",
       "      <th></th>\n",
       "    </tr>\n",
       "  </thead>\n",
       "  <tbody>\n",
       "    <tr>\n",
       "      <th>0.0</th>\n",
       "      <td>2.284672</td>\n",
       "      <td>2.306391</td>\n",
       "      <td>2.285102</td>\n",
       "      <td>2.292055</td>\n",
       "    </tr>\n",
       "    <tr>\n",
       "      <th>2.0</th>\n",
       "      <td>2.284681</td>\n",
       "      <td>2.306615</td>\n",
       "      <td>2.281675</td>\n",
       "      <td>2.290990</td>\n",
       "    </tr>\n",
       "    <tr>\n",
       "      <th>4.0</th>\n",
       "      <td>2.287089</td>\n",
       "      <td>2.317106</td>\n",
       "      <td>2.286305</td>\n",
       "      <td>2.296833</td>\n",
       "    </tr>\n",
       "    <tr>\n",
       "      <th>6.0</th>\n",
       "      <td>2.287089</td>\n",
       "      <td>2.314108</td>\n",
       "      <td>2.274321</td>\n",
       "      <td>2.291839</td>\n",
       "    </tr>\n",
       "    <tr>\n",
       "      <th>8.0</th>\n",
       "      <td>2.290710</td>\n",
       "      <td>2.309162</td>\n",
       "      <td>2.271278</td>\n",
       "      <td>2.290383</td>\n",
       "    </tr>\n",
       "    <tr>\n",
       "      <th>...</th>\n",
       "      <td>...</td>\n",
       "      <td>...</td>\n",
       "      <td>...</td>\n",
       "      <td>...</td>\n",
       "    </tr>\n",
       "    <tr>\n",
       "      <th>49992.0</th>\n",
       "      <td>2.304884</td>\n",
       "      <td>2.296039</td>\n",
       "      <td>2.309185</td>\n",
       "      <td>2.303369</td>\n",
       "    </tr>\n",
       "    <tr>\n",
       "      <th>49994.0</th>\n",
       "      <td>2.299573</td>\n",
       "      <td>2.295020</td>\n",
       "      <td>2.308944</td>\n",
       "      <td>2.301179</td>\n",
       "    </tr>\n",
       "    <tr>\n",
       "      <th>49996.0</th>\n",
       "      <td>2.300632</td>\n",
       "      <td>2.298575</td>\n",
       "      <td>2.311787</td>\n",
       "      <td>2.303665</td>\n",
       "    </tr>\n",
       "    <tr>\n",
       "      <th>49998.0</th>\n",
       "      <td>2.304350</td>\n",
       "      <td>2.300048</td>\n",
       "      <td>2.304522</td>\n",
       "      <td>2.302973</td>\n",
       "    </tr>\n",
       "    <tr>\n",
       "      <th>50000.0</th>\n",
       "      <td>2.303285</td>\n",
       "      <td>2.298598</td>\n",
       "      <td>2.301038</td>\n",
       "      <td>2.300974</td>\n",
       "    </tr>\n",
       "  </tbody>\n",
       "</table>\n",
       "<p>25001 rows × 4 columns</p>\n",
       "</div>"
      ],
      "text/plain": [
       "                 R1        R2        R3  Average_419X\n",
       "Time (ps)                                            \n",
       "0.0        2.284672  2.306391  2.285102      2.292055\n",
       "2.0        2.284681  2.306615  2.281675      2.290990\n",
       "4.0        2.287089  2.317106  2.286305      2.296833\n",
       "6.0        2.287089  2.314108  2.274321      2.291839\n",
       "8.0        2.290710  2.309162  2.271278      2.290383\n",
       "...             ...       ...       ...           ...\n",
       "49992.0    2.304884  2.296039  2.309185      2.303369\n",
       "49994.0    2.299573  2.295020  2.308944      2.301179\n",
       "49996.0    2.300632  2.298575  2.311787      2.303665\n",
       "49998.0    2.304350  2.300048  2.304522      2.302973\n",
       "50000.0    2.303285  2.298598  2.301038      2.300974\n",
       "\n",
       "[25001 rows x 4 columns]"
      ]
     },
     "execution_count": 33,
     "metadata": {},
     "output_type": "execute_result"
    }
   ],
   "source": [
    "rgyr_419x_df = pd.DataFrame(rgyr_419X_R1, columns=['R1'], index=time)\n",
    "rgyr_419x_df.index.name = 'Time (ps)'\n",
    "rgyr_419x_df['R2'] = rgyr_419X_R2\n",
    "rgyr_419x_df['R3'] = rgyr_419X_R3\n",
    "rgyr_419x_df['Average_419X'] = rgyr_419x_df.mean(axis=1)\n",
    "rgyr_419x_df"
   ]
  },
  {
   "cell_type": "code",
   "execution_count": 35,
   "metadata": {
    "ExecuteTime": {
     "end_time": "2020-11-02T18:48:42.140928Z",
     "start_time": "2020-11-02T18:48:41.325004Z"
    }
   },
   "outputs": [
    {
     "data": {
      "text/plain": [
       "(2.24, 2.36)"
      ]
     },
     "execution_count": 35,
     "metadata": {},
     "output_type": "execute_result"
    },
    {
     "data": {
      "image/png": "[encoded data removed]",
      "text/plain": [
       "<Figure size 1296x432 with 3 Axes>"
      ]
     },
     "metadata": {},
     "output_type": "display_data"
    }
   ],
   "source": [
    "fig1, (ax1, ax2, ax3) = plt.subplots(nrows=1,ncols=3, figsize=(18, 6))\n",
    "rgyr_df.plot(y = ['R1', 'R2', 'R3'], ax = ax1)\n",
    "ax1.set(xlabel = 'Tiempo (ps)', ylabel = 'Radio de giro (nm)', title = 'WT')\n",
    "ax1.set_xlim([0, 5000])\n",
    "ax1.set_ylim([2.24, 2.32])\n",
    "rgyr_c391r_df.plot(y = ['R1', 'R2', 'R3'], ax = ax2)\n",
    "ax2.set(xlabel = 'Tiempo (ps)', ylabel = 'Radio de giro (nm)', title = 'C391R')\n",
    "ax2.set_xlim([0, 5000])\n",
    "ax2.set_ylim([2.23, 2.34])\n",
    "rgyr_419x_df.plot( y = ['R1', 'R2', 'R3'], ax = ax3)\n",
    "ax3.set(xlabel = 'Tiempo (ps)', ylabel = 'Radio de giro (nm)', title = '419X')\n",
    "ax3.set_xlim([0, 5000])\n",
    "ax3.set_ylim([2.24, 2.36])"
   ]
  },
  {
   "cell_type": "markdown",
   "metadata": {},
   "source": [
    "## WT vs C391R vs 419X"
   ]
  },
  {
   "cell_type": "code",
   "execution_count": 40,
   "metadata": {
    "ExecuteTime": {
     "end_time": "2020-11-02T22:43:00.294953Z",
     "start_time": "2020-11-02T22:42:58.764530Z"
    }
   },
   "outputs": [
    {
     "data": {
      "text/plain": [
       "(2.25, 2.33)"
      ]
     },
     "execution_count": 40,
     "metadata": {},
     "output_type": "execute_result"
    },
    {
     "data": {
      "image/png": "[encoded data removed]",
      "text/plain": [
       "<Figure size 864x432 with 1 Axes>"
      ]
     },
     "metadata": {},
     "output_type": "display_data"
    }
   ],
   "source": [
    "average_RG_df = pd.concat([rgyr_df, rgyr_c391r_df, rgyr_419x_df], axis = 1)\n",
    "fig2, ax1 = plt.subplots(figsize=(12, 6))\n",
    "average_RG_df.plot(y = ['Average_WT', 'Average_C391R', 'Average_419X'], ax = ax1)\n",
    "ax1.set(xlabel = 'Tiempo (ps)', ylabel = 'Radio de giro (nm)')\n",
    "ax1.set_xlim([0, 5000])\n",
    "ax1.set_ylim([2.25, 2.33])"
   ]
  },
  {
   "cell_type": "markdown",
   "metadata": {},
   "source": [
    "# RMSD_MDAnalysis"
   ]
  },
  {
   "cell_type": "markdown",
   "metadata": {},
   "source": [
    "## WT"
   ]
  },
  {
   "cell_type": "code",
   "execution_count": 42,
   "metadata": {
    "ExecuteTime": {
     "end_time": "2020-11-02T22:51:04.945343Z",
     "start_time": "2020-11-02T22:44:15.179515Z"
    }
   },
   "outputs": [
    {
     "data": {
      "text/plain": [
       "<MDAnalysis.analysis.rms.RMSD at 0x7f8d3a60adc0>"
      ]
     },
     "execution_count": 42,
     "metadata": {},
     "output_type": "execute_result"
    }
   ],
   "source": [
    "u_WT_R1.trajectory[0] # set to first frame\n",
    "rmsd_analysis_WT = rms.RMSD(u_WT_R1,u_WT_R1, select='backbone', groupselections=['name CA', 'protein'], ref_frame=0)\n",
    "rmsd_analysis_WT.run()"
   ]
  },
  {
   "cell_type": "code",
   "execution_count": 43,
   "metadata": {
    "ExecuteTime": {
     "end_time": "2020-11-02T22:58:14.067952Z",
     "start_time": "2020-11-02T22:51:05.017684Z"
    }
   },
   "outputs": [
    {
     "data": {
      "text/plain": [
       "<MDAnalysis.analysis.rms.RMSD at 0x7f8d3a5e4d30>"
      ]
     },
     "execution_count": 43,
     "metadata": {},
     "output_type": "execute_result"
    }
   ],
   "source": [
    "u_WT_R2.trajectory[0] # set to first frame\n",
    "rmsd_analysis_WT_R2 = rms.RMSD(u_WT_R2, select='backbone', groupselections=['name CA', 'protein'])\n",
    "rmsd_analysis_WT_R2.run()"
   ]
  },
  {
   "cell_type": "code",
   "execution_count": 44,
   "metadata": {
    "ExecuteTime": {
     "end_time": "2020-11-02T23:05:51.128461Z",
     "start_time": "2020-11-02T22:58:14.078107Z"
    }
   },
   "outputs": [
    {
     "data": {
      "text/plain": [
       "<MDAnalysis.analysis.rms.RMSD at 0x7f8d3b007cd0>"
      ]
     },
     "execution_count": 44,
     "metadata": {},
     "output_type": "execute_result"
    }
   ],
   "source": [
    "u_WT_R3.trajectory[0] # set to first frame\n",
    "rmsd_analysis_WT_R3 = rms.RMSD(u_WT_R3, select='backbone', groupselections=['name CA', 'protein'])\n",
    "rmsd_analysis_WT_R3.run()"
   ]
  },
  {
   "cell_type": "markdown",
   "metadata": {},
   "source": [
    "### Backbone"
   ]
  },
  {
   "cell_type": "code",
   "execution_count": 84,
   "metadata": {
    "ExecuteTime": {
     "end_time": "2020-11-03T03:35:05.669367Z",
     "start_time": "2020-11-03T03:35:05.624600Z"
    }
   },
   "outputs": [
    {
     "data": {
      "text/html": [
       "<div>\n",
       "<style scoped>\n",
       "    .dataframe tbody tr th:only-of-type {\n",
       "        vertical-align: middle;\n",
       "    }\n",
       "\n",
       "    .dataframe tbody tr th {\n",
       "        vertical-align: top;\n",
       "    }\n",
       "\n",
       "    .dataframe thead th {\n",
       "        text-align: right;\n",
       "    }\n",
       "</style>\n",
       "<table border=\"1\" class=\"dataframe\">\n",
       "  <thead>\n",
       "    <tr style=\"text-align: right;\">\n",
       "      <th></th>\n",
       "      <th>R1</th>\n",
       "      <th>R2</th>\n",
       "      <th>R3</th>\n",
       "      <th>Average_BC_WT</th>\n",
       "    </tr>\n",
       "    <tr>\n",
       "      <th>Time (ps)</th>\n",
       "      <th></th>\n",
       "      <th></th>\n",
       "      <th></th>\n",
       "      <th></th>\n",
       "    </tr>\n",
       "  </thead>\n",
       "  <tbody>\n",
       "    <tr>\n",
       "      <th>0.0</th>\n",
       "      <td>1.470224e-07</td>\n",
       "      <td>8.786267e-08</td>\n",
       "      <td>1.242566e-07</td>\n",
       "      <td>1.197139e-07</td>\n",
       "    </tr>\n",
       "    <tr>\n",
       "      <th>2.0</th>\n",
       "      <td>5.976559e-02</td>\n",
       "      <td>5.892366e-02</td>\n",
       "      <td>6.474793e-02</td>\n",
       "      <td>6.114572e-02</td>\n",
       "    </tr>\n",
       "    <tr>\n",
       "      <th>4.0</th>\n",
       "      <td>7.076607e-02</td>\n",
       "      <td>7.061224e-02</td>\n",
       "      <td>7.952756e-02</td>\n",
       "      <td>7.363529e-02</td>\n",
       "    </tr>\n",
       "    <tr>\n",
       "      <th>6.0</th>\n",
       "      <td>7.208119e-02</td>\n",
       "      <td>7.418897e-02</td>\n",
       "      <td>8.257048e-02</td>\n",
       "      <td>7.628021e-02</td>\n",
       "    </tr>\n",
       "    <tr>\n",
       "      <th>8.0</th>\n",
       "      <td>7.926804e-02</td>\n",
       "      <td>7.560533e-02</td>\n",
       "      <td>7.902186e-02</td>\n",
       "      <td>7.796508e-02</td>\n",
       "    </tr>\n",
       "    <tr>\n",
       "      <th>...</th>\n",
       "      <td>...</td>\n",
       "      <td>...</td>\n",
       "      <td>...</td>\n",
       "      <td>...</td>\n",
       "    </tr>\n",
       "    <tr>\n",
       "      <th>49992.0</th>\n",
       "      <td>2.359122e-01</td>\n",
       "      <td>3.191609e-01</td>\n",
       "      <td>2.188205e-01</td>\n",
       "      <td>2.579645e-01</td>\n",
       "    </tr>\n",
       "    <tr>\n",
       "      <th>49994.0</th>\n",
       "      <td>2.322628e-01</td>\n",
       "      <td>3.177595e-01</td>\n",
       "      <td>2.199909e-01</td>\n",
       "      <td>2.566711e-01</td>\n",
       "    </tr>\n",
       "    <tr>\n",
       "      <th>49996.0</th>\n",
       "      <td>2.471329e-01</td>\n",
       "      <td>3.254326e-01</td>\n",
       "      <td>2.200629e-01</td>\n",
       "      <td>2.642095e-01</td>\n",
       "    </tr>\n",
       "    <tr>\n",
       "      <th>49998.0</th>\n",
       "      <td>2.408443e-01</td>\n",
       "      <td>3.219871e-01</td>\n",
       "      <td>2.195517e-01</td>\n",
       "      <td>2.607944e-01</td>\n",
       "    </tr>\n",
       "    <tr>\n",
       "      <th>50000.0</th>\n",
       "      <td>2.404083e-01</td>\n",
       "      <td>3.222870e-01</td>\n",
       "      <td>2.231882e-01</td>\n",
       "      <td>2.619612e-01</td>\n",
       "    </tr>\n",
       "  </tbody>\n",
       "</table>\n",
       "<p>25001 rows × 4 columns</p>\n",
       "</div>"
      ],
      "text/plain": [
       "                     R1            R2            R3  Average_BC_WT\n",
       "Time (ps)                                                         \n",
       "0.0        1.470224e-07  8.786267e-08  1.242566e-07   1.197139e-07\n",
       "2.0        5.976559e-02  5.892366e-02  6.474793e-02   6.114572e-02\n",
       "4.0        7.076607e-02  7.061224e-02  7.952756e-02   7.363529e-02\n",
       "6.0        7.208119e-02  7.418897e-02  8.257048e-02   7.628021e-02\n",
       "8.0        7.926804e-02  7.560533e-02  7.902186e-02   7.796508e-02\n",
       "...                 ...           ...           ...            ...\n",
       "49992.0    2.359122e-01  3.191609e-01  2.188205e-01   2.579645e-01\n",
       "49994.0    2.322628e-01  3.177595e-01  2.199909e-01   2.566711e-01\n",
       "49996.0    2.471329e-01  3.254326e-01  2.200629e-01   2.642095e-01\n",
       "49998.0    2.408443e-01  3.219871e-01  2.195517e-01   2.607944e-01\n",
       "50000.0    2.404083e-01  3.222870e-01  2.231882e-01   2.619612e-01\n",
       "\n",
       "[25001 rows x 4 columns]"
      ]
     },
     "execution_count": 84,
     "metadata": {},
     "output_type": "execute_result"
    }
   ],
   "source": [
    "rmsd_df_WT_BC = pd.DataFrame(rmsd_analysis_WT.rmsd[:, 2]*0.1,\n",
    "                       columns=['R1'],\n",
    "                       index=rmsd_analysis_WT.rmsd[:, 1])\n",
    "\n",
    "rmsd_df_WT_BC.index.name = 'Time (ps)'\n",
    "rmsd_df_WT_BC ['R2'] = rmsd_analysis_WT_R2.rmsd[:, 2]*0.1\n",
    "rmsd_df_WT_BC ['R3'] = rmsd_analysis_WT_R3.rmsd[:, 2]*0.1\n",
    "rmsd_df_WT_BC ['Average_BC_WT'] = rmsd_df_WT_BC.mean(axis=1)\n",
    "rmsd_df_WT_BC"
   ]
  },
  {
   "cell_type": "markdown",
   "metadata": {},
   "source": [
    "### Alpha C"
   ]
  },
  {
   "cell_type": "code",
   "execution_count": 85,
   "metadata": {
    "ExecuteTime": {
     "end_time": "2020-11-03T03:35:10.136078Z",
     "start_time": "2020-11-03T03:35:10.098735Z"
    }
   },
   "outputs": [
    {
     "data": {
      "text/html": [
       "<div>\n",
       "<style scoped>\n",
       "    .dataframe tbody tr th:only-of-type {\n",
       "        vertical-align: middle;\n",
       "    }\n",
       "\n",
       "    .dataframe tbody tr th {\n",
       "        vertical-align: top;\n",
       "    }\n",
       "\n",
       "    .dataframe thead th {\n",
       "        text-align: right;\n",
       "    }\n",
       "</style>\n",
       "<table border=\"1\" class=\"dataframe\">\n",
       "  <thead>\n",
       "    <tr style=\"text-align: right;\">\n",
       "      <th></th>\n",
       "      <th>R1</th>\n",
       "      <th>R2</th>\n",
       "      <th>R3</th>\n",
       "      <th>Average_CA_WT</th>\n",
       "    </tr>\n",
       "    <tr>\n",
       "      <th>Time (ps)</th>\n",
       "      <th></th>\n",
       "      <th></th>\n",
       "      <th></th>\n",
       "      <th></th>\n",
       "    </tr>\n",
       "  </thead>\n",
       "  <tbody>\n",
       "    <tr>\n",
       "      <th>0.0</th>\n",
       "      <td>1.545032e-08</td>\n",
       "      <td>1.196777e-08</td>\n",
       "      <td>1.381919e-08</td>\n",
       "      <td>1.374576e-08</td>\n",
       "    </tr>\n",
       "    <tr>\n",
       "      <th>2.0</th>\n",
       "      <td>5.640712e-02</td>\n",
       "      <td>5.653323e-02</td>\n",
       "      <td>6.190716e-02</td>\n",
       "      <td>5.828250e-02</td>\n",
       "    </tr>\n",
       "    <tr>\n",
       "      <th>4.0</th>\n",
       "      <td>6.857953e-02</td>\n",
       "      <td>6.873680e-02</td>\n",
       "      <td>7.694699e-02</td>\n",
       "      <td>7.142111e-02</td>\n",
       "    </tr>\n",
       "    <tr>\n",
       "      <th>6.0</th>\n",
       "      <td>6.950330e-02</td>\n",
       "      <td>7.181624e-02</td>\n",
       "      <td>8.006160e-02</td>\n",
       "      <td>7.379371e-02</td>\n",
       "    </tr>\n",
       "    <tr>\n",
       "      <th>8.0</th>\n",
       "      <td>7.699625e-02</td>\n",
       "      <td>7.350789e-02</td>\n",
       "      <td>7.618350e-02</td>\n",
       "      <td>7.556255e-02</td>\n",
       "    </tr>\n",
       "    <tr>\n",
       "      <th>...</th>\n",
       "      <td>...</td>\n",
       "      <td>...</td>\n",
       "      <td>...</td>\n",
       "      <td>...</td>\n",
       "    </tr>\n",
       "    <tr>\n",
       "      <th>49992.0</th>\n",
       "      <td>2.353113e-01</td>\n",
       "      <td>3.201029e-01</td>\n",
       "      <td>2.193642e-01</td>\n",
       "      <td>2.582595e-01</td>\n",
       "    </tr>\n",
       "    <tr>\n",
       "      <th>49994.0</th>\n",
       "      <td>2.317172e-01</td>\n",
       "      <td>3.190306e-01</td>\n",
       "      <td>2.208695e-01</td>\n",
       "      <td>2.572058e-01</td>\n",
       "    </tr>\n",
       "    <tr>\n",
       "      <th>49996.0</th>\n",
       "      <td>2.463421e-01</td>\n",
       "      <td>3.269364e-01</td>\n",
       "      <td>2.207834e-01</td>\n",
       "      <td>2.646873e-01</td>\n",
       "    </tr>\n",
       "    <tr>\n",
       "      <th>49998.0</th>\n",
       "      <td>2.405359e-01</td>\n",
       "      <td>3.231307e-01</td>\n",
       "      <td>2.197400e-01</td>\n",
       "      <td>2.611355e-01</td>\n",
       "    </tr>\n",
       "    <tr>\n",
       "      <th>50000.0</th>\n",
       "      <td>2.399010e-01</td>\n",
       "      <td>3.228737e-01</td>\n",
       "      <td>2.238346e-01</td>\n",
       "      <td>2.622031e-01</td>\n",
       "    </tr>\n",
       "  </tbody>\n",
       "</table>\n",
       "<p>25001 rows × 4 columns</p>\n",
       "</div>"
      ],
      "text/plain": [
       "                     R1            R2            R3  Average_CA_WT\n",
       "Time (ps)                                                         \n",
       "0.0        1.545032e-08  1.196777e-08  1.381919e-08   1.374576e-08\n",
       "2.0        5.640712e-02  5.653323e-02  6.190716e-02   5.828250e-02\n",
       "4.0        6.857953e-02  6.873680e-02  7.694699e-02   7.142111e-02\n",
       "6.0        6.950330e-02  7.181624e-02  8.006160e-02   7.379371e-02\n",
       "8.0        7.699625e-02  7.350789e-02  7.618350e-02   7.556255e-02\n",
       "...                 ...           ...           ...            ...\n",
       "49992.0    2.353113e-01  3.201029e-01  2.193642e-01   2.582595e-01\n",
       "49994.0    2.317172e-01  3.190306e-01  2.208695e-01   2.572058e-01\n",
       "49996.0    2.463421e-01  3.269364e-01  2.207834e-01   2.646873e-01\n",
       "49998.0    2.405359e-01  3.231307e-01  2.197400e-01   2.611355e-01\n",
       "50000.0    2.399010e-01  3.228737e-01  2.238346e-01   2.622031e-01\n",
       "\n",
       "[25001 rows x 4 columns]"
      ]
     },
     "execution_count": 85,
     "metadata": {},
     "output_type": "execute_result"
    }
   ],
   "source": [
    "rmsd_df_WT_CA = pd.DataFrame(rmsd_analysis_WT.rmsd[:, 3]*0.1,\n",
    "                       columns=['R1'],\n",
    "                       index=rmsd_analysis_WT.rmsd[:, 1])\n",
    "\n",
    "rmsd_df_WT_CA.index.name = 'Time (ps)'\n",
    "rmsd_df_WT_CA['R2'] = rmsd_analysis_WT_R2.rmsd[:, 3]*0.1\n",
    "rmsd_df_WT_CA['R3'] = rmsd_analysis_WT_R3.rmsd[:, 3]*0.1\n",
    "rmsd_df_WT_CA['Average_CA_WT'] = rmsd_df_WT_CA.mean(axis=1)\n",
    "rmsd_df_WT_CA"
   ]
  },
  {
   "cell_type": "markdown",
   "metadata": {},
   "source": [
    "### Protein"
   ]
  },
  {
   "cell_type": "code",
   "execution_count": 86,
   "metadata": {
    "ExecuteTime": {
     "end_time": "2020-11-03T03:35:13.215781Z",
     "start_time": "2020-11-03T03:35:13.176101Z"
    }
   },
   "outputs": [
    {
     "data": {
      "text/html": [
       "<div>\n",
       "<style scoped>\n",
       "    .dataframe tbody tr th:only-of-type {\n",
       "        vertical-align: middle;\n",
       "    }\n",
       "\n",
       "    .dataframe tbody tr th {\n",
       "        vertical-align: top;\n",
       "    }\n",
       "\n",
       "    .dataframe thead th {\n",
       "        text-align: right;\n",
       "    }\n",
       "</style>\n",
       "<table border=\"1\" class=\"dataframe\">\n",
       "  <thead>\n",
       "    <tr style=\"text-align: right;\">\n",
       "      <th></th>\n",
       "      <th>R1</th>\n",
       "      <th>R2</th>\n",
       "      <th>R3</th>\n",
       "      <th>Average_PR_WT</th>\n",
       "    </tr>\n",
       "    <tr>\n",
       "      <th>Time (ps)</th>\n",
       "      <th></th>\n",
       "      <th></th>\n",
       "      <th></th>\n",
       "      <th></th>\n",
       "    </tr>\n",
       "  </thead>\n",
       "  <tbody>\n",
       "    <tr>\n",
       "      <th>0.0</th>\n",
       "      <td>2.014641e-08</td>\n",
       "      <td>1.529386e-08</td>\n",
       "      <td>1.602055e-08</td>\n",
       "      <td>1.715361e-08</td>\n",
       "    </tr>\n",
       "    <tr>\n",
       "      <th>2.0</th>\n",
       "      <td>8.081352e-02</td>\n",
       "      <td>8.239735e-02</td>\n",
       "      <td>8.503897e-02</td>\n",
       "      <td>8.274995e-02</td>\n",
       "    </tr>\n",
       "    <tr>\n",
       "      <th>4.0</th>\n",
       "      <td>9.358089e-02</td>\n",
       "      <td>9.609368e-02</td>\n",
       "      <td>1.006896e-01</td>\n",
       "      <td>9.678805e-02</td>\n",
       "    </tr>\n",
       "    <tr>\n",
       "      <th>6.0</th>\n",
       "      <td>9.781562e-02</td>\n",
       "      <td>1.025607e-01</td>\n",
       "      <td>1.054972e-01</td>\n",
       "      <td>1.019578e-01</td>\n",
       "    </tr>\n",
       "    <tr>\n",
       "      <th>8.0</th>\n",
       "      <td>1.053389e-01</td>\n",
       "      <td>1.050160e-01</td>\n",
       "      <td>1.063141e-01</td>\n",
       "      <td>1.055563e-01</td>\n",
       "    </tr>\n",
       "    <tr>\n",
       "      <th>...</th>\n",
       "      <td>...</td>\n",
       "      <td>...</td>\n",
       "      <td>...</td>\n",
       "      <td>...</td>\n",
       "    </tr>\n",
       "    <tr>\n",
       "      <th>49992.0</th>\n",
       "      <td>3.088906e-01</td>\n",
       "      <td>3.833998e-01</td>\n",
       "      <td>2.976527e-01</td>\n",
       "      <td>3.299811e-01</td>\n",
       "    </tr>\n",
       "    <tr>\n",
       "      <th>49994.0</th>\n",
       "      <td>3.035435e-01</td>\n",
       "      <td>3.825497e-01</td>\n",
       "      <td>2.983043e-01</td>\n",
       "      <td>3.281325e-01</td>\n",
       "    </tr>\n",
       "    <tr>\n",
       "      <th>49996.0</th>\n",
       "      <td>3.142679e-01</td>\n",
       "      <td>3.894610e-01</td>\n",
       "      <td>2.985858e-01</td>\n",
       "      <td>3.341049e-01</td>\n",
       "    </tr>\n",
       "    <tr>\n",
       "      <th>49998.0</th>\n",
       "      <td>3.114444e-01</td>\n",
       "      <td>3.862825e-01</td>\n",
       "      <td>2.969116e-01</td>\n",
       "      <td>3.315462e-01</td>\n",
       "    </tr>\n",
       "    <tr>\n",
       "      <th>50000.0</th>\n",
       "      <td>3.118866e-01</td>\n",
       "      <td>3.885064e-01</td>\n",
       "      <td>3.004124e-01</td>\n",
       "      <td>3.336018e-01</td>\n",
       "    </tr>\n",
       "  </tbody>\n",
       "</table>\n",
       "<p>25001 rows × 4 columns</p>\n",
       "</div>"
      ],
      "text/plain": [
       "                     R1            R2            R3  Average_PR_WT\n",
       "Time (ps)                                                         \n",
       "0.0        2.014641e-08  1.529386e-08  1.602055e-08   1.715361e-08\n",
       "2.0        8.081352e-02  8.239735e-02  8.503897e-02   8.274995e-02\n",
       "4.0        9.358089e-02  9.609368e-02  1.006896e-01   9.678805e-02\n",
       "6.0        9.781562e-02  1.025607e-01  1.054972e-01   1.019578e-01\n",
       "8.0        1.053389e-01  1.050160e-01  1.063141e-01   1.055563e-01\n",
       "...                 ...           ...           ...            ...\n",
       "49992.0    3.088906e-01  3.833998e-01  2.976527e-01   3.299811e-01\n",
       "49994.0    3.035435e-01  3.825497e-01  2.983043e-01   3.281325e-01\n",
       "49996.0    3.142679e-01  3.894610e-01  2.985858e-01   3.341049e-01\n",
       "49998.0    3.114444e-01  3.862825e-01  2.969116e-01   3.315462e-01\n",
       "50000.0    3.118866e-01  3.885064e-01  3.004124e-01   3.336018e-01\n",
       "\n",
       "[25001 rows x 4 columns]"
      ]
     },
     "execution_count": 86,
     "metadata": {},
     "output_type": "execute_result"
    }
   ],
   "source": [
    "rmsd_df_WT_PR = pd.DataFrame(rmsd_analysis_WT.rmsd[:, 4]*0.1,\n",
    "                       columns=['R1'],\n",
    "                       index=rmsd_analysis_WT.rmsd[:, 1])\n",
    "\n",
    "rmsd_df_WT_PR.index.name = 'Time (ps)'\n",
    "rmsd_df_WT_PR['R2'] = rmsd_analysis_WT_R2.rmsd[:, 4]*0.1\n",
    "rmsd_df_WT_PR['R3'] = rmsd_analysis_WT_R3.rmsd[:, 4]*0.1\n",
    "rmsd_df_WT_PR['Average_PR_WT'] = rmsd_df_WT_PR.mean(axis=1)\n",
    "rmsd_df_WT_PR"
   ]
  },
  {
   "cell_type": "code",
   "execution_count": 55,
   "metadata": {
    "ExecuteTime": {
     "end_time": "2020-11-02T23:12:45.683185Z",
     "start_time": "2020-11-02T23:12:43.824905Z"
    }
   },
   "outputs": [
    {
     "data": {
      "text/plain": [
       "[Text(0, 0.5, 'RMSD (nm)'),\n",
       " Text(0.5, 0, 'Tiempo (ns)'),\n",
       " Text(0.5, 1.0, 'Proteína')]"
      ]
     },
     "execution_count": 55,
     "metadata": {},
     "output_type": "execute_result"
    },
    {
     "data": {
      "image/png": "[encoded data removed]",
      "text/plain": [
       "<Figure size 1296x432 with 3 Axes>"
      ]
     },
     "metadata": {},
     "output_type": "display_data"
    }
   ],
   "source": [
    "fig3, (ax1, ax2, ax3) = plt.subplots(nrows=1,ncols=3, figsize=(18, 6))\n",
    "rmsd_df_WT_BC.plot(y = ['R1', 'R2', 'R3'], ax = ax1)\n",
    "ax1.set(xlabel = 'Tiempo (ns)', ylabel = 'RMSD (nm)', title = 'Backbone')\n",
    "rmsd_df_WT_CA.plot(y = ['R1', 'R2', 'R3'], ax = ax2)\n",
    "ax2.set(xlabel = 'Tiempo (ns)', ylabel = 'RMSD (nm)', title = 'Carbono alpha')\n",
    "rmsd_df_WT_PR.plot( y = ['R1', 'R2', 'R3'], ax = ax3)\n",
    "ax3.set(xlabel = 'Tiempo (ns)', ylabel = 'RMSD (nm)', title = 'Proteína')"
   ]
  },
  {
   "cell_type": "markdown",
   "metadata": {},
   "source": [
    "## C391R"
   ]
  },
  {
   "cell_type": "code",
   "execution_count": 57,
   "metadata": {
    "ExecuteTime": {
     "end_time": "2020-11-03T02:38:27.835440Z",
     "start_time": "2020-11-03T02:31:19.032299Z"
    }
   },
   "outputs": [
    {
     "data": {
      "text/plain": [
       "<MDAnalysis.analysis.rms.RMSD at 0x7f8d3a6242e0>"
      ]
     },
     "execution_count": 57,
     "metadata": {},
     "output_type": "execute_result"
    }
   ],
   "source": [
    "u_C391R_R1.trajectory[0] # set to first frame\n",
    "rmsd_analysis_C391R_R1 = rms.RMSD(u_C391R_R1, select='backbone', groupselections=['name CA', 'protein'])\n",
    "rmsd_analysis_C391R_R1.run()"
   ]
  },
  {
   "cell_type": "code",
   "execution_count": 58,
   "metadata": {
    "ExecuteTime": {
     "end_time": "2020-11-03T02:45:44.999547Z",
     "start_time": "2020-11-03T02:38:27.925197Z"
    }
   },
   "outputs": [
    {
     "data": {
      "text/plain": [
       "<MDAnalysis.analysis.rms.RMSD at 0x7f8d3b088b50>"
      ]
     },
     "execution_count": 58,
     "metadata": {},
     "output_type": "execute_result"
    }
   ],
   "source": [
    "u_C391R_R2.trajectory[0] # set to first frame\n",
    "rmsd_analysis_C391R_R2 = rms.RMSD(u_C391R_R2, select='backbone', groupselections=['name CA', 'protein'])\n",
    "rmsd_analysis_C391R_R2.run()"
   ]
  },
  {
   "cell_type": "code",
   "execution_count": 59,
   "metadata": {
    "ExecuteTime": {
     "end_time": "2020-11-03T02:52:58.362774Z",
     "start_time": "2020-11-03T02:45:45.006729Z"
    }
   },
   "outputs": [
    {
     "data": {
      "text/plain": [
       "<MDAnalysis.analysis.rms.RMSD at 0x7f8d3b0cd100>"
      ]
     },
     "execution_count": 59,
     "metadata": {},
     "output_type": "execute_result"
    }
   ],
   "source": [
    "u_C391R_R3.trajectory[0] # set to first frame\n",
    "rmsd_analysis_C391R_R3 = rms.RMSD(u_C391R_R3, select='backbone', groupselections=['name CA', 'protein'])\n",
    "rmsd_analysis_C391R_R3.run()"
   ]
  },
  {
   "cell_type": "markdown",
   "metadata": {},
   "source": [
    "### Backbone"
   ]
  },
  {
   "cell_type": "code",
   "execution_count": 87,
   "metadata": {
    "ExecuteTime": {
     "end_time": "2020-11-03T03:35:17.769842Z",
     "start_time": "2020-11-03T03:35:17.711484Z"
    }
   },
   "outputs": [
    {
     "data": {
      "text/html": [
       "<div>\n",
       "<style scoped>\n",
       "    .dataframe tbody tr th:only-of-type {\n",
       "        vertical-align: middle;\n",
       "    }\n",
       "\n",
       "    .dataframe tbody tr th {\n",
       "        vertical-align: top;\n",
       "    }\n",
       "\n",
       "    .dataframe thead th {\n",
       "        text-align: right;\n",
       "    }\n",
       "</style>\n",
       "<table border=\"1\" class=\"dataframe\">\n",
       "  <thead>\n",
       "    <tr style=\"text-align: right;\">\n",
       "      <th></th>\n",
       "      <th>R1</th>\n",
       "      <th>R2</th>\n",
       "      <th>R3</th>\n",
       "      <th>Average_BC_C391R</th>\n",
       "    </tr>\n",
       "    <tr>\n",
       "      <th>Time (ps)</th>\n",
       "      <th></th>\n",
       "      <th></th>\n",
       "      <th></th>\n",
       "      <th></th>\n",
       "    </tr>\n",
       "  </thead>\n",
       "  <tbody>\n",
       "    <tr>\n",
       "      <th>0.0</th>\n",
       "      <td>9.612134e-08</td>\n",
       "      <td>7.848274e-08</td>\n",
       "      <td>3.924137e-08</td>\n",
       "      <td>7.128182e-08</td>\n",
       "    </tr>\n",
       "    <tr>\n",
       "      <th>2.0</th>\n",
       "      <td>6.410043e-02</td>\n",
       "      <td>6.368318e-02</td>\n",
       "      <td>6.051857e-02</td>\n",
       "      <td>6.276739e-02</td>\n",
       "    </tr>\n",
       "    <tr>\n",
       "      <th>4.0</th>\n",
       "      <td>6.838939e-02</td>\n",
       "      <td>7.979342e-02</td>\n",
       "      <td>6.946973e-02</td>\n",
       "      <td>7.255085e-02</td>\n",
       "    </tr>\n",
       "    <tr>\n",
       "      <th>6.0</th>\n",
       "      <td>7.592362e-02</td>\n",
       "      <td>7.726679e-02</td>\n",
       "      <td>7.718234e-02</td>\n",
       "      <td>7.679092e-02</td>\n",
       "    </tr>\n",
       "    <tr>\n",
       "      <th>8.0</th>\n",
       "      <td>6.992517e-02</td>\n",
       "      <td>7.566047e-02</td>\n",
       "      <td>8.329385e-02</td>\n",
       "      <td>7.629317e-02</td>\n",
       "    </tr>\n",
       "    <tr>\n",
       "      <th>...</th>\n",
       "      <td>...</td>\n",
       "      <td>...</td>\n",
       "      <td>...</td>\n",
       "      <td>...</td>\n",
       "    </tr>\n",
       "    <tr>\n",
       "      <th>49992.0</th>\n",
       "      <td>2.863511e-01</td>\n",
       "      <td>2.042285e-01</td>\n",
       "      <td>2.650050e-01</td>\n",
       "      <td>2.518615e-01</td>\n",
       "    </tr>\n",
       "    <tr>\n",
       "      <th>49994.0</th>\n",
       "      <td>2.954707e-01</td>\n",
       "      <td>2.095994e-01</td>\n",
       "      <td>2.626614e-01</td>\n",
       "      <td>2.559105e-01</td>\n",
       "    </tr>\n",
       "    <tr>\n",
       "      <th>49996.0</th>\n",
       "      <td>2.955240e-01</td>\n",
       "      <td>2.196293e-01</td>\n",
       "      <td>2.674301e-01</td>\n",
       "      <td>2.608611e-01</td>\n",
       "    </tr>\n",
       "    <tr>\n",
       "      <th>49998.0</th>\n",
       "      <td>2.842699e-01</td>\n",
       "      <td>2.271394e-01</td>\n",
       "      <td>2.792919e-01</td>\n",
       "      <td>2.635671e-01</td>\n",
       "    </tr>\n",
       "    <tr>\n",
       "      <th>50000.0</th>\n",
       "      <td>2.861384e-01</td>\n",
       "      <td>2.306511e-01</td>\n",
       "      <td>2.781232e-01</td>\n",
       "      <td>2.649709e-01</td>\n",
       "    </tr>\n",
       "  </tbody>\n",
       "</table>\n",
       "<p>25001 rows × 4 columns</p>\n",
       "</div>"
      ],
      "text/plain": [
       "                     R1            R2            R3  Average_BC_C391R\n",
       "Time (ps)                                                            \n",
       "0.0        9.612134e-08  7.848274e-08  3.924137e-08      7.128182e-08\n",
       "2.0        6.410043e-02  6.368318e-02  6.051857e-02      6.276739e-02\n",
       "4.0        6.838939e-02  7.979342e-02  6.946973e-02      7.255085e-02\n",
       "6.0        7.592362e-02  7.726679e-02  7.718234e-02      7.679092e-02\n",
       "8.0        6.992517e-02  7.566047e-02  8.329385e-02      7.629317e-02\n",
       "...                 ...           ...           ...               ...\n",
       "49992.0    2.863511e-01  2.042285e-01  2.650050e-01      2.518615e-01\n",
       "49994.0    2.954707e-01  2.095994e-01  2.626614e-01      2.559105e-01\n",
       "49996.0    2.955240e-01  2.196293e-01  2.674301e-01      2.608611e-01\n",
       "49998.0    2.842699e-01  2.271394e-01  2.792919e-01      2.635671e-01\n",
       "50000.0    2.861384e-01  2.306511e-01  2.781232e-01      2.649709e-01\n",
       "\n",
       "[25001 rows x 4 columns]"
      ]
     },
     "execution_count": 87,
     "metadata": {},
     "output_type": "execute_result"
    }
   ],
   "source": [
    "rmsd_df_C391R_BC = pd.DataFrame(rmsd_analysis_C391R_R1.rmsd[:, 2]*0.1,\n",
    "                       columns=['R1'],\n",
    "                       index=rmsd_analysis_C391R_R1.rmsd[:, 1])\n",
    "\n",
    "rmsd_df_C391R_BC.index.name = 'Time (ps)'\n",
    "rmsd_df_C391R_BC['R2'] = rmsd_analysis_C391R_R2.rmsd[:, 2]*0.1\n",
    "rmsd_df_C391R_BC['R3'] = rmsd_analysis_C391R_R3.rmsd[:, 2]*0.1\n",
    "rmsd_df_C391R_BC['Average_BC_C391R'] = rmsd_df_C391R_BC.mean(axis=1)\n",
    "rmsd_df_C391R_BC"
   ]
  },
  {
   "cell_type": "markdown",
   "metadata": {},
   "source": [
    "### Alpha C"
   ]
  },
  {
   "cell_type": "code",
   "execution_count": 88,
   "metadata": {
    "ExecuteTime": {
     "end_time": "2020-11-03T03:35:21.151048Z",
     "start_time": "2020-11-03T03:35:21.086276Z"
    }
   },
   "outputs": [
    {
     "data": {
      "text/html": [
       "<div>\n",
       "<style scoped>\n",
       "    .dataframe tbody tr th:only-of-type {\n",
       "        vertical-align: middle;\n",
       "    }\n",
       "\n",
       "    .dataframe tbody tr th {\n",
       "        vertical-align: top;\n",
       "    }\n",
       "\n",
       "    .dataframe thead th {\n",
       "        text-align: right;\n",
       "    }\n",
       "</style>\n",
       "<table border=\"1\" class=\"dataframe\">\n",
       "  <thead>\n",
       "    <tr style=\"text-align: right;\">\n",
       "      <th></th>\n",
       "      <th>R1</th>\n",
       "      <th>R2</th>\n",
       "      <th>R3</th>\n",
       "      <th>Average_CA_C391R</th>\n",
       "    </tr>\n",
       "    <tr>\n",
       "      <th>Time (ps)</th>\n",
       "      <th></th>\n",
       "      <th></th>\n",
       "      <th></th>\n",
       "      <th></th>\n",
       "    </tr>\n",
       "  </thead>\n",
       "  <tbody>\n",
       "    <tr>\n",
       "      <th>0.0</th>\n",
       "      <td>1.381919e-08</td>\n",
       "      <td>1.828107e-08</td>\n",
       "      <td>8.462491e-09</td>\n",
       "      <td>1.352092e-08</td>\n",
       "    </tr>\n",
       "    <tr>\n",
       "      <th>2.0</th>\n",
       "      <td>6.190961e-02</td>\n",
       "      <td>6.055417e-02</td>\n",
       "      <td>5.786718e-02</td>\n",
       "      <td>6.011032e-02</td>\n",
       "    </tr>\n",
       "    <tr>\n",
       "      <th>4.0</th>\n",
       "      <td>6.508172e-02</td>\n",
       "      <td>7.727484e-02</td>\n",
       "      <td>6.713869e-02</td>\n",
       "      <td>6.983175e-02</td>\n",
       "    </tr>\n",
       "    <tr>\n",
       "      <th>6.0</th>\n",
       "      <td>7.418596e-02</td>\n",
       "      <td>7.465827e-02</td>\n",
       "      <td>7.557668e-02</td>\n",
       "      <td>7.480697e-02</td>\n",
       "    </tr>\n",
       "    <tr>\n",
       "      <th>8.0</th>\n",
       "      <td>6.767727e-02</td>\n",
       "      <td>7.382537e-02</td>\n",
       "      <td>8.103134e-02</td>\n",
       "      <td>7.417799e-02</td>\n",
       "    </tr>\n",
       "    <tr>\n",
       "      <th>...</th>\n",
       "      <td>...</td>\n",
       "      <td>...</td>\n",
       "      <td>...</td>\n",
       "      <td>...</td>\n",
       "    </tr>\n",
       "    <tr>\n",
       "      <th>49992.0</th>\n",
       "      <td>2.870312e-01</td>\n",
       "      <td>2.049758e-01</td>\n",
       "      <td>2.649485e-01</td>\n",
       "      <td>2.523185e-01</td>\n",
       "    </tr>\n",
       "    <tr>\n",
       "      <th>49994.0</th>\n",
       "      <td>2.960416e-01</td>\n",
       "      <td>2.101410e-01</td>\n",
       "      <td>2.633760e-01</td>\n",
       "      <td>2.565195e-01</td>\n",
       "    </tr>\n",
       "    <tr>\n",
       "      <th>49996.0</th>\n",
       "      <td>2.958563e-01</td>\n",
       "      <td>2.200191e-01</td>\n",
       "      <td>2.673128e-01</td>\n",
       "      <td>2.610627e-01</td>\n",
       "    </tr>\n",
       "    <tr>\n",
       "      <th>49998.0</th>\n",
       "      <td>2.848459e-01</td>\n",
       "      <td>2.281050e-01</td>\n",
       "      <td>2.789215e-01</td>\n",
       "      <td>2.639575e-01</td>\n",
       "    </tr>\n",
       "    <tr>\n",
       "      <th>50000.0</th>\n",
       "      <td>2.864986e-01</td>\n",
       "      <td>2.312547e-01</td>\n",
       "      <td>2.781358e-01</td>\n",
       "      <td>2.652963e-01</td>\n",
       "    </tr>\n",
       "  </tbody>\n",
       "</table>\n",
       "<p>25001 rows × 4 columns</p>\n",
       "</div>"
      ],
      "text/plain": [
       "                     R1            R2            R3  Average_CA_C391R\n",
       "Time (ps)                                                            \n",
       "0.0        1.381919e-08  1.828107e-08  8.462491e-09      1.352092e-08\n",
       "2.0        6.190961e-02  6.055417e-02  5.786718e-02      6.011032e-02\n",
       "4.0        6.508172e-02  7.727484e-02  6.713869e-02      6.983175e-02\n",
       "6.0        7.418596e-02  7.465827e-02  7.557668e-02      7.480697e-02\n",
       "8.0        6.767727e-02  7.382537e-02  8.103134e-02      7.417799e-02\n",
       "...                 ...           ...           ...               ...\n",
       "49992.0    2.870312e-01  2.049758e-01  2.649485e-01      2.523185e-01\n",
       "49994.0    2.960416e-01  2.101410e-01  2.633760e-01      2.565195e-01\n",
       "49996.0    2.958563e-01  2.200191e-01  2.673128e-01      2.610627e-01\n",
       "49998.0    2.848459e-01  2.281050e-01  2.789215e-01      2.639575e-01\n",
       "50000.0    2.864986e-01  2.312547e-01  2.781358e-01      2.652963e-01\n",
       "\n",
       "[25001 rows x 4 columns]"
      ]
     },
     "execution_count": 88,
     "metadata": {},
     "output_type": "execute_result"
    }
   ],
   "source": [
    "rmsd_df_C391R_CA = pd.DataFrame(rmsd_analysis_C391R_R1.rmsd[:, 3]*0.1,\n",
    "                       columns=['R1'],\n",
    "                       index=rmsd_analysis_C391R_R1.rmsd[:, 1])\n",
    "rmsd_df_C391R_CA.index.name = 'Time (ps)'\n",
    "rmsd_df_C391R_CA['R2'] = rmsd_analysis_C391R_R2.rmsd[:, 3]*0.1\n",
    "rmsd_df_C391R_CA['R3'] = rmsd_analysis_C391R_R3.rmsd[:, 3]*0.1\n",
    "rmsd_df_C391R_CA['Average_CA_C391R'] = rmsd_df_C391R_CA.mean(axis=1)\n",
    "rmsd_df_C391R_CA"
   ]
  },
  {
   "cell_type": "markdown",
   "metadata": {},
   "source": [
    "### Protein"
   ]
  },
  {
   "cell_type": "code",
   "execution_count": 95,
   "metadata": {
    "ExecuteTime": {
     "end_time": "2020-11-03T03:36:54.927832Z",
     "start_time": "2020-11-03T03:36:54.882089Z"
    }
   },
   "outputs": [
    {
     "data": {
      "text/html": [
       "<div>\n",
       "<style scoped>\n",
       "    .dataframe tbody tr th:only-of-type {\n",
       "        vertical-align: middle;\n",
       "    }\n",
       "\n",
       "    .dataframe tbody tr th {\n",
       "        vertical-align: top;\n",
       "    }\n",
       "\n",
       "    .dataframe thead th {\n",
       "        text-align: right;\n",
       "    }\n",
       "</style>\n",
       "<table border=\"1\" class=\"dataframe\">\n",
       "  <thead>\n",
       "    <tr style=\"text-align: right;\">\n",
       "      <th></th>\n",
       "      <th>R1</th>\n",
       "      <th>R2</th>\n",
       "      <th>R3</th>\n",
       "      <th>Average_PR_C391R</th>\n",
       "    </tr>\n",
       "    <tr>\n",
       "      <th>Time (ps)</th>\n",
       "      <th></th>\n",
       "      <th></th>\n",
       "      <th></th>\n",
       "      <th></th>\n",
       "    </tr>\n",
       "  </thead>\n",
       "  <tbody>\n",
       "    <tr>\n",
       "      <th>0.0</th>\n",
       "      <td>1.946839e-08</td>\n",
       "      <td>2.191095e-08</td>\n",
       "      <td>1.612794e-08</td>\n",
       "      <td>1.352092e-08</td>\n",
       "    </tr>\n",
       "    <tr>\n",
       "      <th>2.0</th>\n",
       "      <td>8.648916e-02</td>\n",
       "      <td>8.379390e-02</td>\n",
       "      <td>8.179588e-02</td>\n",
       "      <td>6.011032e-02</td>\n",
       "    </tr>\n",
       "    <tr>\n",
       "      <th>4.0</th>\n",
       "      <td>9.535551e-02</td>\n",
       "      <td>1.018288e-01</td>\n",
       "      <td>9.372011e-02</td>\n",
       "      <td>6.983175e-02</td>\n",
       "    </tr>\n",
       "    <tr>\n",
       "      <th>6.0</th>\n",
       "      <td>1.054656e-01</td>\n",
       "      <td>1.024512e-01</td>\n",
       "      <td>9.940811e-02</td>\n",
       "      <td>7.480697e-02</td>\n",
       "    </tr>\n",
       "    <tr>\n",
       "      <th>8.0</th>\n",
       "      <td>1.028062e-01</td>\n",
       "      <td>1.015644e-01</td>\n",
       "      <td>1.034453e-01</td>\n",
       "      <td>7.417799e-02</td>\n",
       "    </tr>\n",
       "    <tr>\n",
       "      <th>...</th>\n",
       "      <td>...</td>\n",
       "      <td>...</td>\n",
       "      <td>...</td>\n",
       "      <td>...</td>\n",
       "    </tr>\n",
       "    <tr>\n",
       "      <th>49992.0</th>\n",
       "      <td>3.624803e-01</td>\n",
       "      <td>2.808309e-01</td>\n",
       "      <td>3.292288e-01</td>\n",
       "      <td>2.523185e-01</td>\n",
       "    </tr>\n",
       "    <tr>\n",
       "      <th>49994.0</th>\n",
       "      <td>3.703561e-01</td>\n",
       "      <td>2.865663e-01</td>\n",
       "      <td>3.294299e-01</td>\n",
       "      <td>2.565195e-01</td>\n",
       "    </tr>\n",
       "    <tr>\n",
       "      <th>49996.0</th>\n",
       "      <td>3.683403e-01</td>\n",
       "      <td>2.940955e-01</td>\n",
       "      <td>3.320780e-01</td>\n",
       "      <td>2.610627e-01</td>\n",
       "    </tr>\n",
       "    <tr>\n",
       "      <th>49998.0</th>\n",
       "      <td>3.607584e-01</td>\n",
       "      <td>2.998586e-01</td>\n",
       "      <td>3.397435e-01</td>\n",
       "      <td>2.639575e-01</td>\n",
       "    </tr>\n",
       "    <tr>\n",
       "      <th>50000.0</th>\n",
       "      <td>3.628821e-01</td>\n",
       "      <td>3.008141e-01</td>\n",
       "      <td>3.403071e-01</td>\n",
       "      <td>2.652963e-01</td>\n",
       "    </tr>\n",
       "  </tbody>\n",
       "</table>\n",
       "<p>25001 rows × 4 columns</p>\n",
       "</div>"
      ],
      "text/plain": [
       "                     R1            R2            R3  Average_PR_C391R\n",
       "Time (ps)                                                            \n",
       "0.0        1.946839e-08  2.191095e-08  1.612794e-08      1.352092e-08\n",
       "2.0        8.648916e-02  8.379390e-02  8.179588e-02      6.011032e-02\n",
       "4.0        9.535551e-02  1.018288e-01  9.372011e-02      6.983175e-02\n",
       "6.0        1.054656e-01  1.024512e-01  9.940811e-02      7.480697e-02\n",
       "8.0        1.028062e-01  1.015644e-01  1.034453e-01      7.417799e-02\n",
       "...                 ...           ...           ...               ...\n",
       "49992.0    3.624803e-01  2.808309e-01  3.292288e-01      2.523185e-01\n",
       "49994.0    3.703561e-01  2.865663e-01  3.294299e-01      2.565195e-01\n",
       "49996.0    3.683403e-01  2.940955e-01  3.320780e-01      2.610627e-01\n",
       "49998.0    3.607584e-01  2.998586e-01  3.397435e-01      2.639575e-01\n",
       "50000.0    3.628821e-01  3.008141e-01  3.403071e-01      2.652963e-01\n",
       "\n",
       "[25001 rows x 4 columns]"
      ]
     },
     "execution_count": 95,
     "metadata": {},
     "output_type": "execute_result"
    }
   ],
   "source": [
    "rmsd_df_C391R_PR = pd.DataFrame(rmsd_analysis_C391R_R1.rmsd[:, 4]*0.1,\n",
    "                       columns=['R1'],\n",
    "                       index=rmsd_analysis_C391R_R1.rmsd[:, 1])\n",
    "\n",
    "rmsd_df_C391R_PR.index.name = 'Time (ps)'\n",
    "rmsd_df_C391R_PR['R2'] = rmsd_analysis_C391R_R2.rmsd[:, 4]*0.1\n",
    "rmsd_df_C391R_PR['R3'] = rmsd_analysis_C391R_R3.rmsd[:, 4]*0.1\n",
    "rmsd_df_C391R_PR['Average_PR_C391R'] = rmsd_df_C391R_CA.mean(axis=1)\n",
    "rmsd_df_C391R_PR"
   ]
  },
  {
   "cell_type": "code",
   "execution_count": 66,
   "metadata": {
    "ExecuteTime": {
     "end_time": "2020-11-03T03:16:21.627093Z",
     "start_time": "2020-11-03T03:16:20.199687Z"
    }
   },
   "outputs": [
    {
     "data": {
      "text/plain": [
       "[Text(0, 0.5, 'RMSD (nm)'),\n",
       " Text(0.5, 0, 'Tiempo (ns)'),\n",
       " Text(0.5, 1.0, 'Proteína')]"
      ]
     },
     "execution_count": 66,
     "metadata": {},
     "output_type": "execute_result"
    },
    {
     "data": {
      "image/png": "[encoded data removed]",
      "text/plain": [
       "<Figure size 1296x432 with 3 Axes>"
      ]
     },
     "metadata": {},
     "output_type": "display_data"
    }
   ],
   "source": [
    "fig4, (ax1, ax2, ax3) = plt.subplots(nrows=1,ncols=3, figsize=(18, 6))\n",
    "rmsd_df_C391R_BC.plot(y = ['R1', 'R2', 'R3'], ax = ax1)\n",
    "ax1.set(xlabel = 'Tiempo (ns)', ylabel = 'RMSD (nm)', title = 'Backbone')\n",
    "rmsd_df_C391R_CA.plot(y = ['R1', 'R2', 'R3'], ax = ax2)\n",
    "ax2.set(xlabel = 'Tiempo (ns)', ylabel = 'RMSD (nm)', title = 'Carbono alpha')\n",
    "rmsd_df_C391R_PR.plot( y = ['R1', 'R2', 'R3'], ax = ax3)\n",
    "ax3.set(xlabel = 'Tiempo (ns)', ylabel = 'RMSD (nm)', title = 'Proteína')"
   ]
  },
  {
   "cell_type": "markdown",
   "metadata": {},
   "source": [
    "## 419X"
   ]
  },
  {
   "cell_type": "code",
   "execution_count": 60,
   "metadata": {
    "ExecuteTime": {
     "end_time": "2020-11-03T02:59:57.192471Z",
     "start_time": "2020-11-03T02:52:58.372842Z"
    }
   },
   "outputs": [
    {
     "data": {
      "text/plain": [
       "<MDAnalysis.analysis.rms.RMSD at 0x7f8d3a9c6e80>"
      ]
     },
     "execution_count": 60,
     "metadata": {},
     "output_type": "execute_result"
    }
   ],
   "source": [
    "u_419X_R1.trajectory[0] # set to first frame\n",
    "rmsd_analysis_419X_R1 = rms.RMSD(u_419X_R1, select='backbone', groupselections=['name CA', 'protein'])\n",
    "rmsd_analysis_419X_R1.run()"
   ]
  },
  {
   "cell_type": "code",
   "execution_count": 61,
   "metadata": {
    "ExecuteTime": {
     "end_time": "2020-11-03T03:07:04.572700Z",
     "start_time": "2020-11-03T02:59:57.197818Z"
    }
   },
   "outputs": [
    {
     "data": {
      "text/plain": [
       "<MDAnalysis.analysis.rms.RMSD at 0x7f8d3b0101c0>"
      ]
     },
     "execution_count": 61,
     "metadata": {},
     "output_type": "execute_result"
    }
   ],
   "source": [
    "u_419X_R2.trajectory[0] # set to first frame\n",
    "rmsd_analysis_419X_R2 = rms.RMSD(u_419X_R2, select='backbone', groupselections=['name CA', 'protein'])\n",
    "rmsd_analysis_419X_R2.run()"
   ]
  },
  {
   "cell_type": "code",
   "execution_count": 62,
   "metadata": {
    "ExecuteTime": {
     "end_time": "2020-11-03T03:14:24.494903Z",
     "start_time": "2020-11-03T03:07:04.576138Z"
    }
   },
   "outputs": [
    {
     "data": {
      "text/plain": [
       "<MDAnalysis.analysis.rms.RMSD at 0x7f8d33ba5760>"
      ]
     },
     "execution_count": 62,
     "metadata": {},
     "output_type": "execute_result"
    }
   ],
   "source": [
    "u_419X_R3.trajectory[0] # set to first frame\n",
    "rmsd_analysis_419X_R3 = rms.RMSD(u_419X_R3, select='backbone', groupselections=['name CA', 'protein'])\n",
    "rmsd_analysis_419X_R3.run()"
   ]
  },
  {
   "cell_type": "markdown",
   "metadata": {},
   "source": [
    "### Backbone"
   ]
  },
  {
   "cell_type": "code",
   "execution_count": 90,
   "metadata": {
    "ExecuteTime": {
     "end_time": "2020-11-03T03:35:29.177190Z",
     "start_time": "2020-11-03T03:35:29.137368Z"
    }
   },
   "outputs": [
    {
     "data": {
      "text/html": [
       "<div>\n",
       "<style scoped>\n",
       "    .dataframe tbody tr th:only-of-type {\n",
       "        vertical-align: middle;\n",
       "    }\n",
       "\n",
       "    .dataframe tbody tr th {\n",
       "        vertical-align: top;\n",
       "    }\n",
       "\n",
       "    .dataframe thead th {\n",
       "        text-align: right;\n",
       "    }\n",
       "</style>\n",
       "<table border=\"1\" class=\"dataframe\">\n",
       "  <thead>\n",
       "    <tr style=\"text-align: right;\">\n",
       "      <th></th>\n",
       "      <th>R1</th>\n",
       "      <th>R2</th>\n",
       "      <th>R3</th>\n",
       "      <th>Average_BC_419X</th>\n",
       "    </tr>\n",
       "    <tr>\n",
       "      <th>Time (ps)</th>\n",
       "      <th></th>\n",
       "      <th></th>\n",
       "      <th></th>\n",
       "      <th></th>\n",
       "    </tr>\n",
       "  </thead>\n",
       "  <tbody>\n",
       "    <tr>\n",
       "      <th>0.0</th>\n",
       "      <td>8.917324e-08</td>\n",
       "      <td>1.055112e-07</td>\n",
       "      <td>1.322653e-07</td>\n",
       "      <td>1.089832e-07</td>\n",
       "    </tr>\n",
       "    <tr>\n",
       "      <th>2.0</th>\n",
       "      <td>5.734549e-02</td>\n",
       "      <td>6.129651e-02</td>\n",
       "      <td>6.270973e-02</td>\n",
       "      <td>6.045058e-02</td>\n",
       "    </tr>\n",
       "    <tr>\n",
       "      <th>4.0</th>\n",
       "      <td>7.682107e-02</td>\n",
       "      <td>6.679068e-02</td>\n",
       "      <td>7.413437e-02</td>\n",
       "      <td>7.258204e-02</td>\n",
       "    </tr>\n",
       "    <tr>\n",
       "      <th>6.0</th>\n",
       "      <td>7.493877e-02</td>\n",
       "      <td>6.924446e-02</td>\n",
       "      <td>7.320735e-02</td>\n",
       "      <td>7.246353e-02</td>\n",
       "    </tr>\n",
       "    <tr>\n",
       "      <th>8.0</th>\n",
       "      <td>8.055913e-02</td>\n",
       "      <td>7.264311e-02</td>\n",
       "      <td>7.869644e-02</td>\n",
       "      <td>7.729956e-02</td>\n",
       "    </tr>\n",
       "    <tr>\n",
       "      <th>...</th>\n",
       "      <td>...</td>\n",
       "      <td>...</td>\n",
       "      <td>...</td>\n",
       "      <td>...</td>\n",
       "    </tr>\n",
       "    <tr>\n",
       "      <th>49992.0</th>\n",
       "      <td>2.409381e-01</td>\n",
       "      <td>2.782159e-01</td>\n",
       "      <td>2.622128e-01</td>\n",
       "      <td>2.604556e-01</td>\n",
       "    </tr>\n",
       "    <tr>\n",
       "      <th>49994.0</th>\n",
       "      <td>2.339169e-01</td>\n",
       "      <td>2.877694e-01</td>\n",
       "      <td>2.672744e-01</td>\n",
       "      <td>2.629869e-01</td>\n",
       "    </tr>\n",
       "    <tr>\n",
       "      <th>49996.0</th>\n",
       "      <td>2.286657e-01</td>\n",
       "      <td>2.803277e-01</td>\n",
       "      <td>2.764654e-01</td>\n",
       "      <td>2.618196e-01</td>\n",
       "    </tr>\n",
       "    <tr>\n",
       "      <th>49998.0</th>\n",
       "      <td>2.373391e-01</td>\n",
       "      <td>2.735821e-01</td>\n",
       "      <td>2.669354e-01</td>\n",
       "      <td>2.592855e-01</td>\n",
       "    </tr>\n",
       "    <tr>\n",
       "      <th>50000.0</th>\n",
       "      <td>2.435199e-01</td>\n",
       "      <td>2.749663e-01</td>\n",
       "      <td>2.647233e-01</td>\n",
       "      <td>2.610698e-01</td>\n",
       "    </tr>\n",
       "  </tbody>\n",
       "</table>\n",
       "<p>25001 rows × 4 columns</p>\n",
       "</div>"
      ],
      "text/plain": [
       "                     R1            R2            R3  Average_BC_419X\n",
       "Time (ps)                                                           \n",
       "0.0        8.917324e-08  1.055112e-07  1.322653e-07     1.089832e-07\n",
       "2.0        5.734549e-02  6.129651e-02  6.270973e-02     6.045058e-02\n",
       "4.0        7.682107e-02  6.679068e-02  7.413437e-02     7.258204e-02\n",
       "6.0        7.493877e-02  6.924446e-02  7.320735e-02     7.246353e-02\n",
       "8.0        8.055913e-02  7.264311e-02  7.869644e-02     7.729956e-02\n",
       "...                 ...           ...           ...              ...\n",
       "49992.0    2.409381e-01  2.782159e-01  2.622128e-01     2.604556e-01\n",
       "49994.0    2.339169e-01  2.877694e-01  2.672744e-01     2.629869e-01\n",
       "49996.0    2.286657e-01  2.803277e-01  2.764654e-01     2.618196e-01\n",
       "49998.0    2.373391e-01  2.735821e-01  2.669354e-01     2.592855e-01\n",
       "50000.0    2.435199e-01  2.749663e-01  2.647233e-01     2.610698e-01\n",
       "\n",
       "[25001 rows x 4 columns]"
      ]
     },
     "execution_count": 90,
     "metadata": {},
     "output_type": "execute_result"
    }
   ],
   "source": [
    "rmsd_df_419X_BC = pd.DataFrame(rmsd_analysis_419X_R1.rmsd[:, 2]*0.1,\n",
    "                       columns=['R1'],\n",
    "                       index=rmsd_analysis_419X_R1.rmsd[:, 1])\n",
    "\n",
    "rmsd_df_419X_BC.index.name = 'Time (ps)'\n",
    "rmsd_df_419X_BC['R2'] = rmsd_analysis_419X_R2.rmsd[:, 2]*0.1\n",
    "rmsd_df_419X_BC['R3'] = rmsd_analysis_419X_R3.rmsd[:, 2]*0.1\n",
    "rmsd_df_419X_BC['Average_BC_419X'] =  rmsd_df_419X_BC.mean(axis=1)\n",
    "rmsd_df_419X_BC"
   ]
  },
  {
   "cell_type": "markdown",
   "metadata": {},
   "source": [
    "### Alpha C"
   ]
  },
  {
   "cell_type": "code",
   "execution_count": 91,
   "metadata": {
    "ExecuteTime": {
     "end_time": "2020-11-03T03:35:32.648881Z",
     "start_time": "2020-11-03T03:35:32.608226Z"
    }
   },
   "outputs": [
    {
     "data": {
      "text/html": [
       "<div>\n",
       "<style scoped>\n",
       "    .dataframe tbody tr th:only-of-type {\n",
       "        vertical-align: middle;\n",
       "    }\n",
       "\n",
       "    .dataframe tbody tr th {\n",
       "        vertical-align: top;\n",
       "    }\n",
       "\n",
       "    .dataframe thead th {\n",
       "        text-align: right;\n",
       "    }\n",
       "</style>\n",
       "<table border=\"1\" class=\"dataframe\">\n",
       "  <thead>\n",
       "    <tr style=\"text-align: right;\">\n",
       "      <th></th>\n",
       "      <th>R1</th>\n",
       "      <th>R2</th>\n",
       "      <th>R3</th>\n",
       "      <th>Average_CA_419X</th>\n",
       "    </tr>\n",
       "    <tr>\n",
       "      <th>Time (ps)</th>\n",
       "      <th></th>\n",
       "      <th></th>\n",
       "      <th></th>\n",
       "      <th></th>\n",
       "    </tr>\n",
       "  </thead>\n",
       "  <tbody>\n",
       "    <tr>\n",
       "      <th>0.0</th>\n",
       "      <td>2.214258e-08</td>\n",
       "      <td>1.642137e-08</td>\n",
       "      <td>8.575783e-09</td>\n",
       "      <td>1.571324e-08</td>\n",
       "    </tr>\n",
       "    <tr>\n",
       "      <th>2.0</th>\n",
       "      <td>5.506273e-02</td>\n",
       "      <td>5.896301e-02</td>\n",
       "      <td>6.108245e-02</td>\n",
       "      <td>5.836940e-02</td>\n",
       "    </tr>\n",
       "    <tr>\n",
       "      <th>4.0</th>\n",
       "      <td>7.496196e-02</td>\n",
       "      <td>6.466715e-02</td>\n",
       "      <td>7.106045e-02</td>\n",
       "      <td>7.022986e-02</td>\n",
       "    </tr>\n",
       "    <tr>\n",
       "      <th>6.0</th>\n",
       "      <td>7.275097e-02</td>\n",
       "      <td>6.647155e-02</td>\n",
       "      <td>7.009351e-02</td>\n",
       "      <td>6.977201e-02</td>\n",
       "    </tr>\n",
       "    <tr>\n",
       "      <th>8.0</th>\n",
       "      <td>7.824731e-02</td>\n",
       "      <td>7.078283e-02</td>\n",
       "      <td>7.658472e-02</td>\n",
       "      <td>7.520495e-02</td>\n",
       "    </tr>\n",
       "    <tr>\n",
       "      <th>...</th>\n",
       "      <td>...</td>\n",
       "      <td>...</td>\n",
       "      <td>...</td>\n",
       "      <td>...</td>\n",
       "    </tr>\n",
       "    <tr>\n",
       "      <th>49992.0</th>\n",
       "      <td>2.433255e-01</td>\n",
       "      <td>2.809374e-01</td>\n",
       "      <td>2.650764e-01</td>\n",
       "      <td>2.631131e-01</td>\n",
       "    </tr>\n",
       "    <tr>\n",
       "      <th>49994.0</th>\n",
       "      <td>2.356032e-01</td>\n",
       "      <td>2.902579e-01</td>\n",
       "      <td>2.699778e-01</td>\n",
       "      <td>2.652796e-01</td>\n",
       "    </tr>\n",
       "    <tr>\n",
       "      <th>49996.0</th>\n",
       "      <td>2.306900e-01</td>\n",
       "      <td>2.836920e-01</td>\n",
       "      <td>2.790737e-01</td>\n",
       "      <td>2.644853e-01</td>\n",
       "    </tr>\n",
       "    <tr>\n",
       "      <th>49998.0</th>\n",
       "      <td>2.403143e-01</td>\n",
       "      <td>2.765833e-01</td>\n",
       "      <td>2.692887e-01</td>\n",
       "      <td>2.620621e-01</td>\n",
       "    </tr>\n",
       "    <tr>\n",
       "      <th>50000.0</th>\n",
       "      <td>2.471210e-01</td>\n",
       "      <td>2.779539e-01</td>\n",
       "      <td>2.667664e-01</td>\n",
       "      <td>2.639471e-01</td>\n",
       "    </tr>\n",
       "  </tbody>\n",
       "</table>\n",
       "<p>25001 rows × 4 columns</p>\n",
       "</div>"
      ],
      "text/plain": [
       "                     R1            R2            R3  Average_CA_419X\n",
       "Time (ps)                                                           \n",
       "0.0        2.214258e-08  1.642137e-08  8.575783e-09     1.571324e-08\n",
       "2.0        5.506273e-02  5.896301e-02  6.108245e-02     5.836940e-02\n",
       "4.0        7.496196e-02  6.466715e-02  7.106045e-02     7.022986e-02\n",
       "6.0        7.275097e-02  6.647155e-02  7.009351e-02     6.977201e-02\n",
       "8.0        7.824731e-02  7.078283e-02  7.658472e-02     7.520495e-02\n",
       "...                 ...           ...           ...              ...\n",
       "49992.0    2.433255e-01  2.809374e-01  2.650764e-01     2.631131e-01\n",
       "49994.0    2.356032e-01  2.902579e-01  2.699778e-01     2.652796e-01\n",
       "49996.0    2.306900e-01  2.836920e-01  2.790737e-01     2.644853e-01\n",
       "49998.0    2.403143e-01  2.765833e-01  2.692887e-01     2.620621e-01\n",
       "50000.0    2.471210e-01  2.779539e-01  2.667664e-01     2.639471e-01\n",
       "\n",
       "[25001 rows x 4 columns]"
      ]
     },
     "execution_count": 91,
     "metadata": {},
     "output_type": "execute_result"
    }
   ],
   "source": [
    "rmsd_df_419X_CA = pd.DataFrame(rmsd_analysis_419X_R1.rmsd[:, 3]*0.1,\n",
    "                       columns=['R1'],\n",
    "                       index=rmsd_analysis_419X_R1.rmsd[:, 1])\n",
    "\n",
    "rmsd_df_419X_CA.index.name = 'Time (ps)'\n",
    "rmsd_df_419X_CA['R2'] = rmsd_analysis_419X_R2.rmsd[:, 3]*0.1\n",
    "rmsd_df_419X_CA['R3'] = rmsd_analysis_419X_R3.rmsd[:, 3]*0.1\n",
    "rmsd_df_419X_CA['Average_CA_419X'] = rmsd_df_419X_CA.mean(axis=1)\n",
    "rmsd_df_419X_CA"
   ]
  },
  {
   "cell_type": "markdown",
   "metadata": {},
   "source": [
    "### Protein"
   ]
  },
  {
   "cell_type": "code",
   "execution_count": 92,
   "metadata": {
    "ExecuteTime": {
     "end_time": "2020-11-03T03:35:35.725005Z",
     "start_time": "2020-11-03T03:35:35.681066Z"
    }
   },
   "outputs": [
    {
     "data": {
      "text/html": [
       "<div>\n",
       "<style scoped>\n",
       "    .dataframe tbody tr th:only-of-type {\n",
       "        vertical-align: middle;\n",
       "    }\n",
       "\n",
       "    .dataframe tbody tr th {\n",
       "        vertical-align: top;\n",
       "    }\n",
       "\n",
       "    .dataframe thead th {\n",
       "        text-align: right;\n",
       "    }\n",
       "</style>\n",
       "<table border=\"1\" class=\"dataframe\">\n",
       "  <thead>\n",
       "    <tr style=\"text-align: right;\">\n",
       "      <th></th>\n",
       "      <th>R1</th>\n",
       "      <th>R2</th>\n",
       "      <th>R3</th>\n",
       "      <th>Average_PR_419X</th>\n",
       "    </tr>\n",
       "  </thead>\n",
       "  <tbody>\n",
       "    <tr>\n",
       "      <th>0.0</th>\n",
       "      <td>2.591547e-08</td>\n",
       "      <td>1.856931e-08</td>\n",
       "      <td>1.433832e-08</td>\n",
       "      <td>1.960770e-08</td>\n",
       "    </tr>\n",
       "    <tr>\n",
       "      <th>2.0</th>\n",
       "      <td>8.222925e-02</td>\n",
       "      <td>8.518987e-02</td>\n",
       "      <td>8.564605e-02</td>\n",
       "      <td>8.435506e-02</td>\n",
       "    </tr>\n",
       "    <tr>\n",
       "      <th>4.0</th>\n",
       "      <td>9.842012e-02</td>\n",
       "      <td>9.259944e-02</td>\n",
       "      <td>9.960328e-02</td>\n",
       "      <td>9.687428e-02</td>\n",
       "    </tr>\n",
       "    <tr>\n",
       "      <th>6.0</th>\n",
       "      <td>1.004176e-01</td>\n",
       "      <td>9.895619e-02</td>\n",
       "      <td>9.890100e-02</td>\n",
       "      <td>9.942494e-02</td>\n",
       "    </tr>\n",
       "    <tr>\n",
       "      <th>8.0</th>\n",
       "      <td>1.078845e-01</td>\n",
       "      <td>1.052594e-01</td>\n",
       "      <td>1.063470e-01</td>\n",
       "      <td>1.064970e-01</td>\n",
       "    </tr>\n",
       "    <tr>\n",
       "      <th>...</th>\n",
       "      <td>...</td>\n",
       "      <td>...</td>\n",
       "      <td>...</td>\n",
       "      <td>...</td>\n",
       "    </tr>\n",
       "    <tr>\n",
       "      <th>49992.0</th>\n",
       "      <td>3.173132e-01</td>\n",
       "      <td>3.506112e-01</td>\n",
       "      <td>3.444482e-01</td>\n",
       "      <td>3.374575e-01</td>\n",
       "    </tr>\n",
       "    <tr>\n",
       "      <th>49994.0</th>\n",
       "      <td>3.092071e-01</td>\n",
       "      <td>3.576354e-01</td>\n",
       "      <td>3.484509e-01</td>\n",
       "      <td>3.384311e-01</td>\n",
       "    </tr>\n",
       "    <tr>\n",
       "      <th>49996.0</th>\n",
       "      <td>3.062537e-01</td>\n",
       "      <td>3.546392e-01</td>\n",
       "      <td>3.567566e-01</td>\n",
       "      <td>3.392165e-01</td>\n",
       "    </tr>\n",
       "    <tr>\n",
       "      <th>49998.0</th>\n",
       "      <td>3.090618e-01</td>\n",
       "      <td>3.495848e-01</td>\n",
       "      <td>3.491922e-01</td>\n",
       "      <td>3.359463e-01</td>\n",
       "    </tr>\n",
       "    <tr>\n",
       "      <th>50000.0</th>\n",
       "      <td>3.165736e-01</td>\n",
       "      <td>3.505443e-01</td>\n",
       "      <td>3.487058e-01</td>\n",
       "      <td>3.386079e-01</td>\n",
       "    </tr>\n",
       "  </tbody>\n",
       "</table>\n",
       "<p>25001 rows × 4 columns</p>\n",
       "</div>"
      ],
      "text/plain": [
       "                   R1            R2            R3  Average_PR_419X\n",
       "0.0      2.591547e-08  1.856931e-08  1.433832e-08     1.960770e-08\n",
       "2.0      8.222925e-02  8.518987e-02  8.564605e-02     8.435506e-02\n",
       "4.0      9.842012e-02  9.259944e-02  9.960328e-02     9.687428e-02\n",
       "6.0      1.004176e-01  9.895619e-02  9.890100e-02     9.942494e-02\n",
       "8.0      1.078845e-01  1.052594e-01  1.063470e-01     1.064970e-01\n",
       "...               ...           ...           ...              ...\n",
       "49992.0  3.173132e-01  3.506112e-01  3.444482e-01     3.374575e-01\n",
       "49994.0  3.092071e-01  3.576354e-01  3.484509e-01     3.384311e-01\n",
       "49996.0  3.062537e-01  3.546392e-01  3.567566e-01     3.392165e-01\n",
       "49998.0  3.090618e-01  3.495848e-01  3.491922e-01     3.359463e-01\n",
       "50000.0  3.165736e-01  3.505443e-01  3.487058e-01     3.386079e-01\n",
       "\n",
       "[25001 rows x 4 columns]"
      ]
     },
     "execution_count": 92,
     "metadata": {},
     "output_type": "execute_result"
    }
   ],
   "source": [
    "rmsd_df_419X_PR = pd.DataFrame(rmsd_analysis_419X_R1.rmsd[:, 4]*0.1,\n",
    "                       columns=['R1'],\n",
    "                       index=rmsd_analysis_419X_R1.rmsd[:, 1])\n",
    "rmsd_df_419X_PR['R2'] = rmsd_analysis_419X_R2.rmsd[:, 4]*0.1\n",
    "rmsd_df_419X_PR['R3'] = rmsd_analysis_419X_R3.rmsd[:, 4]*0.1\n",
    "rmsd_df_419X_PR['Average_PR_419X'] = rmsd_df_419X_PR.mean(axis=1)\n",
    "rmsd_df_419X_PR"
   ]
  },
  {
   "cell_type": "code",
   "execution_count": 70,
   "metadata": {
    "ExecuteTime": {
     "end_time": "2020-11-03T03:16:59.256766Z",
     "start_time": "2020-11-03T03:16:57.155635Z"
    }
   },
   "outputs": [
    {
     "data": {
      "text/plain": [
       "[Text(0, 0.5, 'RMSD (nm)'),\n",
       " Text(0.5, 0, 'Tiempo (ns)'),\n",
       " Text(0.5, 1.0, 'Proteína')]"
      ]
     },
     "execution_count": 70,
     "metadata": {},
     "output_type": "execute_result"
    },
    {
     "data": {
      "image/png": "[encoded data removed]",
      "text/plain": [
       "<Figure size 1296x432 with 3 Axes>"
      ]
     },
     "metadata": {},
     "output_type": "display_data"
    }
   ],
   "source": [
    "fig5, (ax1, ax2, ax3) = plt.subplots(nrows=1,ncols=3, figsize=(18, 6))\n",
    "rmsd_df_419X_BC.plot(y = ['R1', 'R2', 'R3'], ax = ax1)\n",
    "ax1.set(xlabel = 'Tiempo (ns)', ylabel = 'RMSD (nm)', title = 'Backbone')\n",
    "rmsd_df_419X_CA.plot(y = ['R1', 'R2', 'R3'], ax = ax2)\n",
    "ax2.set(xlabel = 'Tiempo (ns)', ylabel = 'RMSD (nm)', title = 'Carbono alpha')\n",
    "rmsd_df_419X_PR.plot( y = ['R1', 'R2', 'R3'], ax = ax3)\n",
    "ax3.set(xlabel = 'Tiempo (ns)', ylabel = 'RMSD (nm)', title = 'Proteína')"
   ]
  },
  {
   "cell_type": "markdown",
   "metadata": {},
   "source": [
    "## WT vs C391R vs 419X"
   ]
  },
  {
   "cell_type": "code",
   "execution_count": 96,
   "metadata": {
    "ExecuteTime": {
     "end_time": "2020-11-03T03:37:27.170374Z",
     "start_time": "2020-11-03T03:37:25.306502Z"
    }
   },
   "outputs": [
    {
     "data": {
      "text/plain": [
       "[Text(0, 0.5, 'RMSD (nm)'),\n",
       " Text(0.5, 0, 'Tiempo (ns)'),\n",
       " Text(0.5, 1.0, 'Proteína')]"
      ]
     },
     "execution_count": 96,
     "metadata": {},
     "output_type": "execute_result"
    },
    {
     "data": {
      "image/png": "[encoded data removed]",
      "text/plain": [
       "<Figure size 1296x432 with 3 Axes>"
      ]
     },
     "metadata": {},
     "output_type": "display_data"
    }
   ],
   "source": [
    "average_RMSD_BC = pd.concat([rmsd_df_WT_BC, rmsd_df_C391R_BC, rmsd_df_419X_BC], axis = 1)\n",
    "average_RMSD_CA = pd.concat([rmsd_df_WT_CA, rmsd_df_C391R_CA, rmsd_df_419X_CA], axis = 1)\n",
    "average_RMSD_PR = pd.concat([rmsd_df_WT_PR, rmsd_df_C391R_PR, rmsd_df_419X_PR], axis = 1)\n",
    "\n",
    "fig5, (ax1, ax2, ax3) = plt.subplots(nrows=1,ncols=3, figsize=(18, 6))\n",
    "average_RMSD_BC.plot(y = ['Average_BC_WT', 'Average_BC_C391R', 'Average_BC_419X'], ax = ax1)\n",
    "ax1.set(xlabel = 'Tiempo (ns)', ylabel = 'RMSD (nm)', title = 'Backbone')\n",
    "average_RMSD_CA.plot(y = ['Average_CA_WT', 'Average_CA_C391R', 'Average_CA_419X'], ax = ax2)\n",
    "ax2.set(xlabel = 'Tiempo (ns)', ylabel = 'RMSD (nm)', title = 'Carbono alpha')\n",
    "average_RMSD_PR.plot( y = ['Average_PR_WT', 'Average_PR_C391R', 'Average_PR_419X'], ax = ax3)\n",
    "ax3.set(xlabel = 'Tiempo (ns)', ylabel = 'RMSD (nm)', title = 'Proteína')"
   ]
  },
  {
   "cell_type": "markdown",
   "metadata": {},
   "source": [
    "# 2D RMSD"
   ]
  },
  {
   "cell_type": "markdown",
   "metadata": {},
   "source": [
    "## WT"
   ]
  },
  {
   "cell_type": "code",
   "execution_count": 100,
   "metadata": {
    "ExecuteTime": {
     "end_time": "2020-11-03T14:08:44.584357Z",
     "start_time": "2020-11-03T13:51:04.549657Z"
    }
   },
   "outputs": [
    {
     "data": {
      "text/plain": [
       "<MDAnalysis.analysis.align.AlignTraj at 0x7f8d314412e0>"
      ]
     },
     "execution_count": 100,
     "metadata": {},
     "output_type": "execute_result"
    }
   ],
   "source": [
    "align.AlignTraj(u_WT_R1, u_WT_R1,\n",
    "                select='name CA',\n",
    "                filename='aligned_WT_R1.dcd').run()"
   ]
  },
  {
   "cell_type": "code",
   "execution_count": 105,
   "metadata": {
    "ExecuteTime": {
     "end_time": "2020-11-03T14:17:30.027186Z",
     "start_time": "2020-11-03T14:17:29.517932Z"
    }
   },
   "outputs": [],
   "source": [
    "aligned_WT_R1 = mda.Universe('/media/sebastianayalar/ADATA HD330/Projects/Saudi/Results/WT/R1/MDProduction/md_1.gro','/media/sebastianayalar/ADATA HD330/Projects/Saudi/Results/WT/R1/MDProduction/WT_R1_noPBC.xtc', 'aligned_WT_R1.dcd')"
   ]
  },
  {
   "cell_type": "code",
   "execution_count": 108,
   "metadata": {
    "ExecuteTime": {
     "end_time": "2020-11-03T18:32:31.758410Z",
     "start_time": "2020-11-03T16:27:01.424028Z"
    }
   },
   "outputs": [
    {
     "name": "stderr",
     "output_type": "stream",
     "text": [
      "/home/sebastianayalar/.local/lib/python3.8/site-packages/MDAnalysis/coordinates/XDR.py:233: UserWarning: Couldn't save offsets because: [Errno 2] No such file or directory: '/media/sebastianayalar/ADATA HD330/Projects/Saudi/Results/WT/R1/MDProduction/.WT_R1_noPBC.xtc_offsets.npz'\n",
      "  warnings.warn(\"Couldn't save offsets because: {}\".format(e))\n"
     ]
    },
    {
     "ename": "EOFError",
     "evalue": "Trying to seek over max number of frames",
     "output_type": "error",
     "traceback": [
      "\u001b[0;31m---------------------------------------------------------------------------\u001b[0m",
      "\u001b[0;31mOSError\u001b[0m                                   Traceback (most recent call last)",
      "\u001b[0;32m~/.local/lib/python3.8/site-packages/MDAnalysis/coordinates/XDR.py\u001b[0m in \u001b[0;36m_read_frame\u001b[0;34m(self, i)\u001b[0m\n\u001b[1;32m    255\u001b[0m             \u001b[0mself\u001b[0m\u001b[0;34m.\u001b[0m\u001b[0m_xdr\u001b[0m\u001b[0;34m.\u001b[0m\u001b[0mseek\u001b[0m\u001b[0;34m(\u001b[0m\u001b[0mi\u001b[0m\u001b[0;34m)\u001b[0m\u001b[0;34m\u001b[0m\u001b[0;34m\u001b[0m\u001b[0m\n\u001b[0;32m--> 256\u001b[0;31m             \u001b[0mtimestep\u001b[0m \u001b[0;34m=\u001b[0m \u001b[0mself\u001b[0m\u001b[0;34m.\u001b[0m\u001b[0m_read_next_timestep\u001b[0m\u001b[0;34m(\u001b[0m\u001b[0;34m)\u001b[0m\u001b[0;34m\u001b[0m\u001b[0;34m\u001b[0m\u001b[0m\n\u001b[0m\u001b[1;32m    257\u001b[0m         \u001b[0;32mexcept\u001b[0m \u001b[0mIOError\u001b[0m\u001b[0;34m:\u001b[0m\u001b[0;34m\u001b[0m\u001b[0;34m\u001b[0m\u001b[0m\n",
      "\u001b[0;32m~/.local/lib/python3.8/site-packages/MDAnalysis/coordinates/XDR.py\u001b[0m in \u001b[0;36m_read_next_timestep\u001b[0;34m(self, ts)\u001b[0m\n\u001b[1;32m    271\u001b[0m             \u001b[0mts\u001b[0m \u001b[0;34m=\u001b[0m \u001b[0mself\u001b[0m\u001b[0;34m.\u001b[0m\u001b[0mts\u001b[0m\u001b[0;34m\u001b[0m\u001b[0;34m\u001b[0m\u001b[0m\n\u001b[0;32m--> 272\u001b[0;31m         \u001b[0mframe\u001b[0m \u001b[0;34m=\u001b[0m \u001b[0mself\u001b[0m\u001b[0;34m.\u001b[0m\u001b[0m_xdr\u001b[0m\u001b[0;34m.\u001b[0m\u001b[0mread\u001b[0m\u001b[0;34m(\u001b[0m\u001b[0;34m)\u001b[0m\u001b[0;34m\u001b[0m\u001b[0;34m\u001b[0m\u001b[0m\n\u001b[0m\u001b[1;32m    273\u001b[0m         \u001b[0mself\u001b[0m\u001b[0;34m.\u001b[0m\u001b[0m_frame\u001b[0m \u001b[0;34m+=\u001b[0m \u001b[0;36m1\u001b[0m\u001b[0;34m\u001b[0m\u001b[0;34m\u001b[0m\u001b[0m\n",
      "\u001b[0;32mMDAnalysis/lib/formats/libmdaxdr.pyx\u001b[0m in \u001b[0;36mMDAnalysis.lib.formats.libmdaxdr.XTCFile.read\u001b[0;34m()\u001b[0m\n",
      "\u001b[0;31mOSError\u001b[0m: XTC read error = compression",
      "\nDuring handling of the above exception, another exception occurred:\n",
      "\u001b[0;31mEOFError\u001b[0m                                  Traceback (most recent call last)",
      "\u001b[0;32m<ipython-input-108-1eece4fe6cd5>\u001b[0m in \u001b[0;36m<module>\u001b[0;34m\u001b[0m\n\u001b[0;32m----> 1\u001b[0;31m \u001b[0mmatrix\u001b[0m \u001b[0;34m=\u001b[0m \u001b[0mdiffusionmap\u001b[0m\u001b[0;34m.\u001b[0m\u001b[0mDistanceMatrix\u001b[0m\u001b[0;34m(\u001b[0m\u001b[0mu_WT_R1\u001b[0m\u001b[0;34m,\u001b[0m \u001b[0mselect\u001b[0m\u001b[0;34m=\u001b[0m\u001b[0;34m'name CA'\u001b[0m\u001b[0;34m)\u001b[0m\u001b[0;34m.\u001b[0m\u001b[0mrun\u001b[0m\u001b[0;34m(\u001b[0m\u001b[0;34m)\u001b[0m\u001b[0;34m\u001b[0m\u001b[0;34m\u001b[0m\u001b[0m\n\u001b[0m",
      "\u001b[0;32m~/.local/lib/python3.8/site-packages/MDAnalysis/analysis/base.py\u001b[0m in \u001b[0;36mrun\u001b[0;34m(self, start, stop, step, verbose)\u001b[0m\n\u001b[1;32m    195\u001b[0m             \u001b[0mself\u001b[0m\u001b[0;34m.\u001b[0m\u001b[0mtimes\u001b[0m\u001b[0;34m[\u001b[0m\u001b[0mi\u001b[0m\u001b[0;34m]\u001b[0m \u001b[0;34m=\u001b[0m \u001b[0mts\u001b[0m\u001b[0;34m.\u001b[0m\u001b[0mtime\u001b[0m\u001b[0;34m\u001b[0m\u001b[0;34m\u001b[0m\u001b[0m\n\u001b[1;32m    196\u001b[0m             \u001b[0;31m# logger.info(\"--> Doing frame {} of {}\".format(i+1, self.n_frames))\u001b[0m\u001b[0;34m\u001b[0m\u001b[0;34m\u001b[0m\u001b[0;34m\u001b[0m\u001b[0m\n\u001b[0;32m--> 197\u001b[0;31m             \u001b[0mself\u001b[0m\u001b[0;34m.\u001b[0m\u001b[0m_single_frame\u001b[0m\u001b[0;34m(\u001b[0m\u001b[0;34m)\u001b[0m\u001b[0;34m\u001b[0m\u001b[0;34m\u001b[0m\u001b[0m\n\u001b[0m\u001b[1;32m    198\u001b[0m         \u001b[0mlogger\u001b[0m\u001b[0;34m.\u001b[0m\u001b[0minfo\u001b[0m\u001b[0;34m(\u001b[0m\u001b[0;34m\"Finishing up\"\u001b[0m\u001b[0;34m)\u001b[0m\u001b[0;34m\u001b[0m\u001b[0;34m\u001b[0m\u001b[0m\n\u001b[1;32m    199\u001b[0m         \u001b[0mself\u001b[0m\u001b[0;34m.\u001b[0m\u001b[0m_conclude\u001b[0m\u001b[0;34m(\u001b[0m\u001b[0;34m)\u001b[0m\u001b[0;34m\u001b[0m\u001b[0;34m\u001b[0m\u001b[0m\n",
      "\u001b[0;32m~/.local/lib/python3.8/site-packages/MDAnalysis/analysis/diffusionmap.py\u001b[0m in \u001b[0;36m_single_frame\u001b[0;34m(self)\u001b[0m\n\u001b[1;32m    255\u001b[0m         \u001b[0;31m# theory, _ts not updated properly. Possible savings by setting a\u001b[0m\u001b[0;34m\u001b[0m\u001b[0;34m\u001b[0m\u001b[0;34m\u001b[0m\u001b[0m\n\u001b[1;32m    256\u001b[0m         \u001b[0;31m# cutoff for significant decimal places to sparsify matrix\u001b[0m\u001b[0;34m\u001b[0m\u001b[0;34m\u001b[0m\u001b[0;34m\u001b[0m\u001b[0m\n\u001b[0;32m--> 257\u001b[0;31m         \u001b[0;32mfor\u001b[0m \u001b[0mj\u001b[0m\u001b[0;34m,\u001b[0m \u001b[0mts\u001b[0m \u001b[0;32min\u001b[0m \u001b[0menumerate\u001b[0m\u001b[0;34m(\u001b[0m\u001b[0mself\u001b[0m\u001b[0;34m.\u001b[0m\u001b[0m_u\u001b[0m\u001b[0;34m.\u001b[0m\u001b[0mtrajectory\u001b[0m\u001b[0;34m[\u001b[0m\u001b[0miframe\u001b[0m\u001b[0;34m:\u001b[0m\u001b[0mself\u001b[0m\u001b[0;34m.\u001b[0m\u001b[0mstop\u001b[0m\u001b[0;34m:\u001b[0m\u001b[0mself\u001b[0m\u001b[0;34m.\u001b[0m\u001b[0mstep\u001b[0m\u001b[0;34m]\u001b[0m\u001b[0;34m)\u001b[0m\u001b[0;34m:\u001b[0m\u001b[0;34m\u001b[0m\u001b[0;34m\u001b[0m\u001b[0m\n\u001b[0m\u001b[1;32m    258\u001b[0m             \u001b[0mself\u001b[0m\u001b[0;34m.\u001b[0m\u001b[0m_ts\u001b[0m \u001b[0;34m=\u001b[0m \u001b[0mts\u001b[0m\u001b[0;34m\u001b[0m\u001b[0;34m\u001b[0m\u001b[0m\n\u001b[1;32m    259\u001b[0m             \u001b[0mj_ref\u001b[0m \u001b[0;34m=\u001b[0m \u001b[0mself\u001b[0m\u001b[0;34m.\u001b[0m\u001b[0matoms\u001b[0m\u001b[0;34m.\u001b[0m\u001b[0mpositions\u001b[0m\u001b[0;34m\u001b[0m\u001b[0;34m\u001b[0m\u001b[0m\n",
      "\u001b[0;32m~/.local/lib/python3.8/site-packages/MDAnalysis/coordinates/base.py\u001b[0m in \u001b[0;36m__iter__\u001b[0;34m(self)\u001b[0m\n\u001b[1;32m    965\u001b[0m     \u001b[0;32mdef\u001b[0m \u001b[0m__iter__\u001b[0m\u001b[0;34m(\u001b[0m\u001b[0mself\u001b[0m\u001b[0;34m)\u001b[0m\u001b[0;34m:\u001b[0m\u001b[0;34m\u001b[0m\u001b[0;34m\u001b[0m\u001b[0m\n\u001b[1;32m    966\u001b[0m         \u001b[0;32mfor\u001b[0m \u001b[0mi\u001b[0m \u001b[0;32min\u001b[0m \u001b[0mrange\u001b[0m\u001b[0;34m(\u001b[0m\u001b[0mself\u001b[0m\u001b[0;34m.\u001b[0m\u001b[0mstart\u001b[0m\u001b[0;34m,\u001b[0m \u001b[0mself\u001b[0m\u001b[0;34m.\u001b[0m\u001b[0mstop\u001b[0m\u001b[0;34m,\u001b[0m \u001b[0mself\u001b[0m\u001b[0;34m.\u001b[0m\u001b[0mstep\u001b[0m\u001b[0;34m)\u001b[0m\u001b[0;34m:\u001b[0m\u001b[0;34m\u001b[0m\u001b[0;34m\u001b[0m\u001b[0m\n\u001b[0;32m--> 967\u001b[0;31m             \u001b[0;32myield\u001b[0m \u001b[0mself\u001b[0m\u001b[0;34m.\u001b[0m\u001b[0mtrajectory\u001b[0m\u001b[0;34m[\u001b[0m\u001b[0mi\u001b[0m\u001b[0;34m]\u001b[0m\u001b[0;34m\u001b[0m\u001b[0;34m\u001b[0m\u001b[0m\n\u001b[0m\u001b[1;32m    968\u001b[0m         \u001b[0mself\u001b[0m\u001b[0;34m.\u001b[0m\u001b[0mtrajectory\u001b[0m\u001b[0;34m.\u001b[0m\u001b[0mrewind\u001b[0m\u001b[0;34m(\u001b[0m\u001b[0;34m)\u001b[0m\u001b[0;34m\u001b[0m\u001b[0;34m\u001b[0m\u001b[0m\n\u001b[1;32m    969\u001b[0m \u001b[0;34m\u001b[0m\u001b[0m\n",
      "\u001b[0;32m~/.local/lib/python3.8/site-packages/MDAnalysis/coordinates/base.py\u001b[0m in \u001b[0;36m__getitem__\u001b[0;34m(self, frame)\u001b[0m\n\u001b[1;32m   1578\u001b[0m         \u001b[0;32mif\u001b[0m \u001b[0misinstance\u001b[0m\u001b[0;34m(\u001b[0m\u001b[0mframe\u001b[0m\u001b[0;34m,\u001b[0m \u001b[0mnumbers\u001b[0m\u001b[0;34m.\u001b[0m\u001b[0mIntegral\u001b[0m\u001b[0;34m)\u001b[0m\u001b[0;34m:\u001b[0m\u001b[0;34m\u001b[0m\u001b[0;34m\u001b[0m\u001b[0m\n\u001b[1;32m   1579\u001b[0m             \u001b[0mframe\u001b[0m \u001b[0;34m=\u001b[0m \u001b[0mself\u001b[0m\u001b[0;34m.\u001b[0m\u001b[0m_apply_limits\u001b[0m\u001b[0;34m(\u001b[0m\u001b[0mframe\u001b[0m\u001b[0;34m)\u001b[0m\u001b[0;34m\u001b[0m\u001b[0;34m\u001b[0m\u001b[0m\n\u001b[0;32m-> 1580\u001b[0;31m             \u001b[0;32mreturn\u001b[0m \u001b[0mself\u001b[0m\u001b[0;34m.\u001b[0m\u001b[0m_read_frame_with_aux\u001b[0m\u001b[0;34m(\u001b[0m\u001b[0mframe\u001b[0m\u001b[0;34m)\u001b[0m\u001b[0;34m\u001b[0m\u001b[0;34m\u001b[0m\u001b[0m\n\u001b[0m\u001b[1;32m   1581\u001b[0m         \u001b[0;32melif\u001b[0m \u001b[0misinstance\u001b[0m\u001b[0;34m(\u001b[0m\u001b[0mframe\u001b[0m\u001b[0;34m,\u001b[0m \u001b[0;34m(\u001b[0m\u001b[0mlist\u001b[0m\u001b[0;34m,\u001b[0m \u001b[0mnp\u001b[0m\u001b[0;34m.\u001b[0m\u001b[0mndarray\u001b[0m\u001b[0;34m)\u001b[0m\u001b[0;34m)\u001b[0m\u001b[0;34m:\u001b[0m\u001b[0;34m\u001b[0m\u001b[0;34m\u001b[0m\u001b[0m\n\u001b[1;32m   1582\u001b[0m             \u001b[0;32mif\u001b[0m \u001b[0mlen\u001b[0m\u001b[0;34m(\u001b[0m\u001b[0mframe\u001b[0m\u001b[0;34m)\u001b[0m \u001b[0;34m!=\u001b[0m \u001b[0;36m0\u001b[0m \u001b[0;32mand\u001b[0m \u001b[0misinstance\u001b[0m\u001b[0;34m(\u001b[0m\u001b[0mframe\u001b[0m\u001b[0;34m[\u001b[0m\u001b[0;36m0\u001b[0m\u001b[0;34m]\u001b[0m\u001b[0;34m,\u001b[0m \u001b[0;34m(\u001b[0m\u001b[0mbool\u001b[0m\u001b[0;34m,\u001b[0m \u001b[0mnp\u001b[0m\u001b[0;34m.\u001b[0m\u001b[0mbool_\u001b[0m\u001b[0;34m)\u001b[0m\u001b[0;34m)\u001b[0m\u001b[0;34m:\u001b[0m\u001b[0;34m\u001b[0m\u001b[0;34m\u001b[0m\u001b[0m\n",
      "\u001b[0;32m~/.local/lib/python3.8/site-packages/MDAnalysis/coordinates/base.py\u001b[0m in \u001b[0;36m_read_frame_with_aux\u001b[0;34m(self, frame)\u001b[0m\n\u001b[1;32m   1610\u001b[0m     \u001b[0;32mdef\u001b[0m \u001b[0m_read_frame_with_aux\u001b[0m\u001b[0;34m(\u001b[0m\u001b[0mself\u001b[0m\u001b[0;34m,\u001b[0m \u001b[0mframe\u001b[0m\u001b[0;34m)\u001b[0m\u001b[0;34m:\u001b[0m\u001b[0;34m\u001b[0m\u001b[0;34m\u001b[0m\u001b[0m\n\u001b[1;32m   1611\u001b[0m         \u001b[0;34m\"\"\"Move to *frame*, updating ts with trajectory, transformations and auxiliary data.\"\"\"\u001b[0m\u001b[0;34m\u001b[0m\u001b[0;34m\u001b[0m\u001b[0m\n\u001b[0;32m-> 1612\u001b[0;31m         \u001b[0mts\u001b[0m \u001b[0;34m=\u001b[0m \u001b[0mself\u001b[0m\u001b[0;34m.\u001b[0m\u001b[0m_read_frame\u001b[0m\u001b[0;34m(\u001b[0m\u001b[0mframe\u001b[0m\u001b[0;34m)\u001b[0m  \u001b[0;31m# pylint: disable=assignment-from-no-return\u001b[0m\u001b[0;34m\u001b[0m\u001b[0;34m\u001b[0m\u001b[0m\n\u001b[0m\u001b[1;32m   1613\u001b[0m         \u001b[0;32mfor\u001b[0m \u001b[0maux\u001b[0m \u001b[0;32min\u001b[0m \u001b[0mself\u001b[0m\u001b[0;34m.\u001b[0m\u001b[0maux_list\u001b[0m\u001b[0;34m:\u001b[0m\u001b[0;34m\u001b[0m\u001b[0;34m\u001b[0m\u001b[0m\n\u001b[1;32m   1614\u001b[0m             \u001b[0mts\u001b[0m \u001b[0;34m=\u001b[0m \u001b[0mself\u001b[0m\u001b[0;34m.\u001b[0m\u001b[0m_auxs\u001b[0m\u001b[0;34m[\u001b[0m\u001b[0maux\u001b[0m\u001b[0;34m]\u001b[0m\u001b[0;34m.\u001b[0m\u001b[0mupdate_ts\u001b[0m\u001b[0;34m(\u001b[0m\u001b[0mts\u001b[0m\u001b[0;34m)\u001b[0m\u001b[0;34m\u001b[0m\u001b[0;34m\u001b[0m\u001b[0m\n",
      "\u001b[0;32m~/.local/lib/python3.8/site-packages/MDAnalysis/coordinates/XDR.py\u001b[0m in \u001b[0;36m_read_frame\u001b[0;34m(self, i)\u001b[0m\n\u001b[1;32m    260\u001b[0m             \u001b[0mself\u001b[0m\u001b[0;34m.\u001b[0m\u001b[0m_xdr\u001b[0m\u001b[0;34m.\u001b[0m\u001b[0mset_offsets\u001b[0m\u001b[0;34m(\u001b[0m\u001b[0moffsets\u001b[0m\u001b[0;34m)\u001b[0m\u001b[0;34m\u001b[0m\u001b[0;34m\u001b[0m\u001b[0m\n\u001b[1;32m    261\u001b[0m             \u001b[0mself\u001b[0m\u001b[0;34m.\u001b[0m\u001b[0m_read_offsets\u001b[0m\u001b[0;34m(\u001b[0m\u001b[0mstore\u001b[0m\u001b[0;34m=\u001b[0m\u001b[0;32mTrue\u001b[0m\u001b[0;34m)\u001b[0m\u001b[0;34m\u001b[0m\u001b[0;34m\u001b[0m\u001b[0m\n\u001b[0;32m--> 262\u001b[0;31m             \u001b[0mself\u001b[0m\u001b[0;34m.\u001b[0m\u001b[0m_xdr\u001b[0m\u001b[0;34m.\u001b[0m\u001b[0mseek\u001b[0m\u001b[0;34m(\u001b[0m\u001b[0mi\u001b[0m\u001b[0;34m)\u001b[0m\u001b[0;34m\u001b[0m\u001b[0;34m\u001b[0m\u001b[0m\n\u001b[0m\u001b[1;32m    263\u001b[0m             \u001b[0mtimestep\u001b[0m \u001b[0;34m=\u001b[0m \u001b[0mself\u001b[0m\u001b[0;34m.\u001b[0m\u001b[0m_read_next_timestep\u001b[0m\u001b[0;34m(\u001b[0m\u001b[0;34m)\u001b[0m\u001b[0;34m\u001b[0m\u001b[0;34m\u001b[0m\u001b[0m\n\u001b[1;32m    264\u001b[0m         \u001b[0;32mreturn\u001b[0m \u001b[0mtimestep\u001b[0m\u001b[0;34m\u001b[0m\u001b[0;34m\u001b[0m\u001b[0m\n",
      "\u001b[0;32mMDAnalysis/lib/formats/libmdaxdr.pyx\u001b[0m in \u001b[0;36mMDAnalysis.lib.formats.libmdaxdr._XDRFile.seek\u001b[0;34m()\u001b[0m\n",
      "\u001b[0;31mEOFError\u001b[0m: Trying to seek over max number of frames"
     ]
    }
   ],
   "source": [
    "matrix = diffusionmapistanceMatrix(u_WT_R1, select='name CA').run()"
   ]
  },
  {
   "cell_type": "code",
   "execution_count": null,
   "metadata": {},
   "outputs": [],
   "source": [
    "align.AlignTraj(u_WT_R2, u_WT_R2,\n",
    "                select='name CA',\n",
    "                filename='aligned_WT_R2.dcd').run()"
   ]
  },
  {
   "cell_type": "code",
   "execution_count": null,
   "metadata": {},
   "outputs": [],
   "source": [
    "align.AlignTraj(u_WT_R3, u_WT_R3,\n",
    "                select='name CA',\n",
    "                filename='aligned_WT_R3.dcd').run()"
   ]
  },
  {
   "cell_type": "code",
   "execution_count": null,
   "metadata": {},
   "outputs": [],
   "source": []
  },
  {
   "cell_type": "code",
   "execution_count": null,
   "metadata": {},
   "outputs": [],
   "source": []
  },
  {
   "cell_type": "code",
   "execution_count": null,
   "metadata": {},
   "outputs": [],
   "source": []
  },
  {
   "cell_type": "markdown",
   "metadata": {},
   "source": [
    "## C391R"
   ]
  },
  {
   "cell_type": "code",
   "execution_count": null,
   "metadata": {},
   "outputs": [],
   "source": []
  },
  {
   "cell_type": "code",
   "execution_count": null,
   "metadata": {},
   "outputs": [],
   "source": []
  },
  {
   "cell_type": "code",
   "execution_count": null,
   "metadata": {},
   "outputs": [],
   "source": []
  },
  {
   "cell_type": "markdown",
   "metadata": {},
   "source": [
    "## 419X"
   ]
  },
  {
   "cell_type": "code",
   "execution_count": null,
   "metadata": {},
   "outputs": [],
   "source": []
  },
  {
   "cell_type": "code",
   "execution_count": null,
   "metadata": {},
   "outputs": [],
   "source": []
  },
  {
   "cell_type": "code",
   "execution_count": null,
   "metadata": {},
   "outputs": [],
   "source": []
  }
 ],
 "metadata": {
  "kernelspec": {
   "display_name": "Python 3",
   "language": "python",
   "name": "python3"
  },
  "language_info": {
   "codemirror_mode": {
    "name": "ipython",
    "version": 3
   },
   "file_extension": ".py",
   "mimetype": "text/x-python",
   "name": "python",
   "nbconvert_exporter": "python",
   "pygments_lexer": "ipython3",
   "version": "3.8.5"
  },
  "toc": {
   "base_numbering": 1,
   "nav_menu": {},
   "number_sections": true,
   "sideBar": true,
   "skip_h1_title": false,
   "title_cell": "Table of Contents",
   "title_sidebar": "Contents",
   "toc_cell": false,
   "toc_position": {},
   "toc_section_display": true,
   "toc_window_display": false
  }
 },
 "nbformat": 4,
 "nbformat_minor": 4
}
